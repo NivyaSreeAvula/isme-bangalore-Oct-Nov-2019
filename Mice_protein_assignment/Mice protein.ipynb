{
 "cells": [
  {
   "cell_type": "markdown",
   "metadata": {},
   "source": [
    "### Data is about Mice Protein\n",
    "\n",
    "Wow! it is all about biology where there is all types of test run is performed on a mouse\n",
    "\n",
    "Coming to the data set:\n",
    "\n",
    "    It is a multivariate data analysis\n",
    "\n",
    "    It has 1080 instances and 82 attributes\n",
    "\n",
    "    The characteristics which is represented in the data set is real and it is performed in the year 2015 August 04\n",
    "    \n",
    "    \n",
    "#### Intially performing EDA on Mice protein "
   ]
  },
  {
   "cell_type": "markdown",
   "metadata": {},
   "source": [
    "## Importing the required Libraries"
   ]
  },
  {
   "cell_type": "code",
   "execution_count": 1,
   "metadata": {},
   "outputs": [],
   "source": [
    "import matplotlib.pyplot as plt\n",
    "import numpy as np\n",
    "from sklearn.linear_model import LogisticRegression\n",
    "from sklearn.metrics import accuracy_score \n",
    "import pandas as pd\n"
   ]
  },
  {
   "cell_type": "code",
   "execution_count": 2,
   "metadata": {},
   "outputs": [],
   "source": [
    "mice= pd.read_csv(\"mice_protein.csv\", sep=\",\")"
   ]
  },
  {
   "cell_type": "code",
   "execution_count": 3,
   "metadata": {},
   "outputs": [],
   "source": [
    "\n",
    "pd.options.display.max_colwidth=-1"
   ]
  },
  {
   "cell_type": "code",
   "execution_count": 4,
   "metadata": {},
   "outputs": [
    {
     "data": {
      "text/html": [
       "<div>\n",
       "<style scoped>\n",
       "    .dataframe tbody tr th:only-of-type {\n",
       "        vertical-align: middle;\n",
       "    }\n",
       "\n",
       "    .dataframe tbody tr th {\n",
       "        vertical-align: top;\n",
       "    }\n",
       "\n",
       "    .dataframe thead th {\n",
       "        text-align: right;\n",
       "    }\n",
       "</style>\n",
       "<table border=\"1\" class=\"dataframe\">\n",
       "  <thead>\n",
       "    <tr style=\"text-align: right;\">\n",
       "      <th></th>\n",
       "      <th>MouseID</th>\n",
       "      <th>DYRK1A_N</th>\n",
       "      <th>ITSN1_N</th>\n",
       "      <th>BDNF_N</th>\n",
       "      <th>NR1_N</th>\n",
       "      <th>NR2A_N</th>\n",
       "      <th>pAKT_N</th>\n",
       "      <th>pBRAF_N</th>\n",
       "      <th>pCAMKII_N</th>\n",
       "      <th>pCREB_N</th>\n",
       "      <th>...</th>\n",
       "      <th>pCFOS_N</th>\n",
       "      <th>SYP_N</th>\n",
       "      <th>H3AcK18_N</th>\n",
       "      <th>EGR1_N</th>\n",
       "      <th>H3MeK4_N</th>\n",
       "      <th>CaNA_N</th>\n",
       "      <th>Genotype</th>\n",
       "      <th>Treatment</th>\n",
       "      <th>Behavior</th>\n",
       "      <th>class</th>\n",
       "    </tr>\n",
       "  </thead>\n",
       "  <tbody>\n",
       "    <tr>\n",
       "      <th>0</th>\n",
       "      <td>'309_1'</td>\n",
       "      <td>0.503643884</td>\n",
       "      <td>0.747193224</td>\n",
       "      <td>0.4301753</td>\n",
       "      <td>2.81632854</td>\n",
       "      <td>5.990151664</td>\n",
       "      <td>0.218830018</td>\n",
       "      <td>0.177565491</td>\n",
       "      <td>2.373744337</td>\n",
       "      <td>0.232223754</td>\n",
       "      <td>...</td>\n",
       "      <td>0.108335872</td>\n",
       "      <td>0.427099</td>\n",
       "      <td>0.114783227</td>\n",
       "      <td>0.131790029</td>\n",
       "      <td>0.128185603</td>\n",
       "      <td>1.675652</td>\n",
       "      <td>'Control'</td>\n",
       "      <td>'Memantine'</td>\n",
       "      <td>'C/S'</td>\n",
       "      <td>'c-CS-m'</td>\n",
       "    </tr>\n",
       "    <tr>\n",
       "      <th>1</th>\n",
       "      <td>'309_2'</td>\n",
       "      <td>0.51461708</td>\n",
       "      <td>0.689063548</td>\n",
       "      <td>0.411770344</td>\n",
       "      <td>2.789514042</td>\n",
       "      <td>5.685037861</td>\n",
       "      <td>0.211636155</td>\n",
       "      <td>0.172817023</td>\n",
       "      <td>2.292149909</td>\n",
       "      <td>0.226972108</td>\n",
       "      <td>...</td>\n",
       "      <td>0.10431543</td>\n",
       "      <td>0.441581</td>\n",
       "      <td>0.111973507</td>\n",
       "      <td>0.13510297</td>\n",
       "      <td>0.1311187</td>\n",
       "      <td>1.743610</td>\n",
       "      <td>'Control'</td>\n",
       "      <td>'Memantine'</td>\n",
       "      <td>'C/S'</td>\n",
       "      <td>'c-CS-m'</td>\n",
       "    </tr>\n",
       "    <tr>\n",
       "      <th>2</th>\n",
       "      <td>'309_3'</td>\n",
       "      <td>0.509183088</td>\n",
       "      <td>0.730246795</td>\n",
       "      <td>0.418308781</td>\n",
       "      <td>2.687201071</td>\n",
       "      <td>5.622058542</td>\n",
       "      <td>0.209010905</td>\n",
       "      <td>0.175722212</td>\n",
       "      <td>2.283336522</td>\n",
       "      <td>0.230246795</td>\n",
       "      <td>...</td>\n",
       "      <td>0.106219278</td>\n",
       "      <td>0.435777</td>\n",
       "      <td>0.111882881</td>\n",
       "      <td>0.133361829</td>\n",
       "      <td>0.127431075</td>\n",
       "      <td>1.926427</td>\n",
       "      <td>'Control'</td>\n",
       "      <td>'Memantine'</td>\n",
       "      <td>'C/S'</td>\n",
       "      <td>'c-CS-m'</td>\n",
       "    </tr>\n",
       "    <tr>\n",
       "      <th>3</th>\n",
       "      <td>'309_4'</td>\n",
       "      <td>0.442106692</td>\n",
       "      <td>0.61707615</td>\n",
       "      <td>0.358626307</td>\n",
       "      <td>2.466947197</td>\n",
       "      <td>4.97950319</td>\n",
       "      <td>0.222885842</td>\n",
       "      <td>0.176462604</td>\n",
       "      <td>2.152300801</td>\n",
       "      <td>0.207004208</td>\n",
       "      <td>...</td>\n",
       "      <td>0.111261965</td>\n",
       "      <td>0.391691</td>\n",
       "      <td>0.130405268</td>\n",
       "      <td>0.147444165</td>\n",
       "      <td>0.146901093</td>\n",
       "      <td>1.700563</td>\n",
       "      <td>'Control'</td>\n",
       "      <td>'Memantine'</td>\n",
       "      <td>'C/S'</td>\n",
       "      <td>'c-CS-m'</td>\n",
       "    </tr>\n",
       "    <tr>\n",
       "      <th>4</th>\n",
       "      <td>'309_5'</td>\n",
       "      <td>0.434940244</td>\n",
       "      <td>0.617429838</td>\n",
       "      <td>0.358802202</td>\n",
       "      <td>2.36578488</td>\n",
       "      <td>4.718678663</td>\n",
       "      <td>0.213105949</td>\n",
       "      <td>0.173626964</td>\n",
       "      <td>2.134013697</td>\n",
       "      <td>0.192157916</td>\n",
       "      <td>...</td>\n",
       "      <td>0.110693923</td>\n",
       "      <td>0.434154</td>\n",
       "      <td>0.118481435</td>\n",
       "      <td>0.140314282</td>\n",
       "      <td>0.148379919</td>\n",
       "      <td>1.839730</td>\n",
       "      <td>'Control'</td>\n",
       "      <td>'Memantine'</td>\n",
       "      <td>'C/S'</td>\n",
       "      <td>'c-CS-m'</td>\n",
       "    </tr>\n",
       "  </tbody>\n",
       "</table>\n",
       "<p>5 rows × 82 columns</p>\n",
       "</div>"
      ],
      "text/plain": [
       "   MouseID     DYRK1A_N      ITSN1_N       BDNF_N        NR1_N       NR2A_N  \\\n",
       "0  '309_1'  0.503643884  0.747193224  0.4301753    2.81632854   5.990151664   \n",
       "1  '309_2'  0.51461708   0.689063548  0.411770344  2.789514042  5.685037861   \n",
       "2  '309_3'  0.509183088  0.730246795  0.418308781  2.687201071  5.622058542   \n",
       "3  '309_4'  0.442106692  0.61707615   0.358626307  2.466947197  4.97950319    \n",
       "4  '309_5'  0.434940244  0.617429838  0.358802202  2.36578488   4.718678663   \n",
       "\n",
       "        pAKT_N      pBRAF_N    pCAMKII_N      pCREB_N  ...      pCFOS_N  \\\n",
       "0  0.218830018  0.177565491  2.373744337  0.232223754  ...  0.108335872   \n",
       "1  0.211636155  0.172817023  2.292149909  0.226972108  ...  0.10431543    \n",
       "2  0.209010905  0.175722212  2.283336522  0.230246795  ...  0.106219278   \n",
       "3  0.222885842  0.176462604  2.152300801  0.207004208  ...  0.111261965   \n",
       "4  0.213105949  0.173626964  2.134013697  0.192157916  ...  0.110693923   \n",
       "\n",
       "      SYP_N    H3AcK18_N       EGR1_N     H3MeK4_N    CaNA_N   Genotype  \\\n",
       "0  0.427099  0.114783227  0.131790029  0.128185603  1.675652  'Control'   \n",
       "1  0.441581  0.111973507  0.13510297   0.1311187    1.743610  'Control'   \n",
       "2  0.435777  0.111882881  0.133361829  0.127431075  1.926427  'Control'   \n",
       "3  0.391691  0.130405268  0.147444165  0.146901093  1.700563  'Control'   \n",
       "4  0.434154  0.118481435  0.140314282  0.148379919  1.839730  'Control'   \n",
       "\n",
       "     Treatment Behavior     class  \n",
       "0  'Memantine'  'C/S'    'c-CS-m'  \n",
       "1  'Memantine'  'C/S'    'c-CS-m'  \n",
       "2  'Memantine'  'C/S'    'c-CS-m'  \n",
       "3  'Memantine'  'C/S'    'c-CS-m'  \n",
       "4  'Memantine'  'C/S'    'c-CS-m'  \n",
       "\n",
       "[5 rows x 82 columns]"
      ]
     },
     "execution_count": 4,
     "metadata": {},
     "output_type": "execute_result"
    }
   ],
   "source": [
    "mice.head()"
   ]
  },
  {
   "cell_type": "markdown",
   "metadata": {},
   "source": [
    "### What are the 82 attributes telling us?\n",
    "\n",
    "1 Mouse ID which can be removed\n",
    "\n",
    "2 to 78 Values of expression levels of 77 proteins; the names of proteins are followed by â€œ_nâ€ indicating that they were measured in the nuclear fraction. For example: DYRK1A_n\\\n",
    "\n",
    "79th attribute is Genotype: control (c) or trisomy (t) \n",
    "\n",
    "80th attribute is Treatment type: memantine (m) or saline (s)\n",
    "\n",
    "81st attribute is Behavior: context-shock (CS) or shock-context (SC)\n",
    "\n",
    "82nd attribute is Class: c-CS-s, c-CS-m, c-SC-s, c-SC-m, t-CS-s, t-CS-m, t-SC-s, t-SC-m\n",
    "\n",
    "so class is my target variable which tells \n",
    "\n",
    "### Classes:\n",
    "c-CS-s: control mice, stimulated to learn, injected with saline \n",
    "\n",
    "c-CS-m: control mice, stimulated to learn, injected with memantine \n",
    "\n",
    "c-SC-s: control mice, not stimulated to learn, injected with saline \n",
    "\n",
    "c-SC-m: control mice, not stimulated to learn, injected with memantine \n",
    "\n",
    "t-CS-s: trisomy mice, stimulated to learn, injected with saline \n",
    "\n",
    "t-CS-m: trisomy mice, stimulated to learn, injected with memantine \n",
    "\n",
    "t-SC-s: trisomy mice, not stimulated to learn, injected with saline\n",
    "\n",
    "t-SC-m: trisomy mice, not stimulated to learn, injected with memantine \n",
    "\n"
   ]
  },
  {
   "cell_type": "code",
   "execution_count": 5,
   "metadata": {},
   "outputs": [
    {
     "name": "stdout",
     "output_type": "stream",
     "text": [
      "<class 'pandas.core.frame.DataFrame'>\n",
      "RangeIndex: 1080 entries, 0 to 1079\n",
      "Data columns (total 82 columns):\n",
      "MouseID            1080 non-null object\n",
      "DYRK1A_N           1080 non-null object\n",
      "ITSN1_N            1080 non-null object\n",
      "BDNF_N             1080 non-null object\n",
      "NR1_N              1080 non-null object\n",
      "NR2A_N             1080 non-null object\n",
      "pAKT_N             1080 non-null object\n",
      "pBRAF_N            1080 non-null object\n",
      "pCAMKII_N          1080 non-null object\n",
      "pCREB_N            1080 non-null object\n",
      "pELK_N             1080 non-null object\n",
      "pERK_N             1080 non-null object\n",
      "pJNK_N             1080 non-null object\n",
      "PKCA_N             1080 non-null object\n",
      "pMEK_N             1080 non-null object\n",
      "pNR1_N             1080 non-null object\n",
      "pNR2A_N            1080 non-null object\n",
      "pNR2B_N            1080 non-null object\n",
      "pPKCAB_N           1080 non-null object\n",
      "pRSK_N             1080 non-null object\n",
      "AKT_N              1080 non-null object\n",
      "BRAF_N             1080 non-null object\n",
      "CAMKII_N           1080 non-null object\n",
      "CREB_N             1080 non-null object\n",
      "ELK_N              1080 non-null object\n",
      "ERK_N              1080 non-null object\n",
      "GSK3B_N            1080 non-null object\n",
      "JNK_N              1080 non-null object\n",
      "MEK_N              1080 non-null object\n",
      "TRKA_N             1080 non-null object\n",
      "RSK_N              1080 non-null object\n",
      "APP_N              1080 non-null object\n",
      "Bcatenin_N         1080 non-null object\n",
      "SOD1_N             1080 non-null object\n",
      "MTOR_N             1080 non-null object\n",
      "P38_N              1080 non-null object\n",
      "pMTOR_N            1080 non-null object\n",
      "DSCR1_N            1080 non-null object\n",
      "AMPKA_N            1080 non-null object\n",
      "NR2B_N             1080 non-null object\n",
      "pNUMB_N            1080 non-null object\n",
      "RAPTOR_N           1080 non-null object\n",
      "TIAM1_N            1080 non-null object\n",
      "pP70S6_N           1080 non-null object\n",
      "NUMB_N             1080 non-null float64\n",
      "P70S6_N            1080 non-null float64\n",
      "pGSK3B_N           1080 non-null float64\n",
      "pPKCG_N            1080 non-null float64\n",
      "CDK5_N             1080 non-null float64\n",
      "S6_N               1080 non-null float64\n",
      "ADARB1_N           1080 non-null float64\n",
      "AcetylH3K9_N       1080 non-null float64\n",
      "RRP1_N             1080 non-null float64\n",
      "BAX_N              1080 non-null float64\n",
      "ARC_N              1080 non-null float64\n",
      "ERBB4_N            1080 non-null float64\n",
      "nNOS_N             1080 non-null float64\n",
      "Tau_N              1080 non-null float64\n",
      "GFAP_N             1080 non-null float64\n",
      "GluR3_N            1080 non-null float64\n",
      "GluR4_N            1080 non-null float64\n",
      "IL1B_N             1080 non-null float64\n",
      "P3525_N            1080 non-null float64\n",
      "pCASP9_N           1080 non-null float64\n",
      "PSD95_N            1080 non-null float64\n",
      "SNCA_N             1080 non-null float64\n",
      "Ubiquitin_N        1080 non-null float64\n",
      "pGSK3B_Tyr216_N    1080 non-null float64\n",
      "SHH_N              1080 non-null float64\n",
      "BAD_N              1080 non-null object\n",
      "BCL2_N             1080 non-null object\n",
      "pS6_N              1080 non-null float64\n",
      "pCFOS_N            1080 non-null object\n",
      "SYP_N              1080 non-null float64\n",
      "H3AcK18_N          1080 non-null object\n",
      "EGR1_N             1080 non-null object\n",
      "H3MeK4_N           1080 non-null object\n",
      "CaNA_N             1080 non-null float64\n",
      "Genotype           1080 non-null object\n",
      "Treatment          1080 non-null object\n",
      "Behavior           1080 non-null object\n",
      "class              1080 non-null object\n",
      "dtypes: float64(28), object(54)\n",
      "memory usage: 692.0+ KB\n"
     ]
    }
   ],
   "source": [
    "mice.info()"
   ]
  },
  {
   "cell_type": "markdown",
   "metadata": {},
   "source": [
    "As we see the data set tells there is no missing values but according to the data where i got form \"https://www.openml.org/d/40966\" tells that there are missing values \n",
    "\n",
    "So, let's eyball the datasets"
   ]
  },
  {
   "cell_type": "code",
   "execution_count": 6,
   "metadata": {
    "scrolled": true
   },
   "outputs": [
    {
     "data": {
      "text/plain": [
       "MouseID            0\n",
       "DYRK1A_N           0\n",
       "ITSN1_N            0\n",
       "BDNF_N             0\n",
       "NR1_N              0\n",
       "NR2A_N             0\n",
       "pAKT_N             0\n",
       "pBRAF_N            0\n",
       "pCAMKII_N          0\n",
       "pCREB_N            0\n",
       "pELK_N             0\n",
       "pERK_N             0\n",
       "pJNK_N             0\n",
       "PKCA_N             0\n",
       "pMEK_N             0\n",
       "pNR1_N             0\n",
       "pNR2A_N            0\n",
       "pNR2B_N            0\n",
       "pPKCAB_N           0\n",
       "pRSK_N             0\n",
       "AKT_N              0\n",
       "BRAF_N             0\n",
       "CAMKII_N           0\n",
       "CREB_N             0\n",
       "ELK_N              0\n",
       "ERK_N              0\n",
       "GSK3B_N            0\n",
       "JNK_N              0\n",
       "MEK_N              0\n",
       "TRKA_N             0\n",
       "                  ..\n",
       "RRP1_N             0\n",
       "BAX_N              0\n",
       "ARC_N              0\n",
       "ERBB4_N            0\n",
       "nNOS_N             0\n",
       "Tau_N              0\n",
       "GFAP_N             0\n",
       "GluR3_N            0\n",
       "GluR4_N            0\n",
       "IL1B_N             0\n",
       "P3525_N            0\n",
       "pCASP9_N           0\n",
       "PSD95_N            0\n",
       "SNCA_N             0\n",
       "Ubiquitin_N        0\n",
       "pGSK3B_Tyr216_N    0\n",
       "SHH_N              0\n",
       "BAD_N              0\n",
       "BCL2_N             0\n",
       "pS6_N              0\n",
       "pCFOS_N            0\n",
       "SYP_N              0\n",
       "H3AcK18_N          0\n",
       "EGR1_N             0\n",
       "H3MeK4_N           0\n",
       "CaNA_N             0\n",
       "Genotype           0\n",
       "Treatment          0\n",
       "Behavior           0\n",
       "class              0\n",
       "Length: 82, dtype: int64"
      ]
     },
     "execution_count": 6,
     "metadata": {},
     "output_type": "execute_result"
    }
   ],
   "source": [
    "mice.isnull().sum()"
   ]
  },
  {
   "cell_type": "markdown",
   "metadata": {},
   "source": [
    "Yes according to the jupyter notebook we don't have any missing values as the value is \"?\" it is considered as a category"
   ]
  },
  {
   "cell_type": "code",
   "execution_count": 7,
   "metadata": {},
   "outputs": [],
   "source": [
    "missing_values= ['?']\n",
    "mice= pd.read_csv(\"mice_protein.csv\", sep=\",\", na_values = missing_values)"
   ]
  },
  {
   "cell_type": "code",
   "execution_count": 8,
   "metadata": {},
   "outputs": [
    {
     "data": {
      "text/html": [
       "<div>\n",
       "<style scoped>\n",
       "    .dataframe tbody tr th:only-of-type {\n",
       "        vertical-align: middle;\n",
       "    }\n",
       "\n",
       "    .dataframe tbody tr th {\n",
       "        vertical-align: top;\n",
       "    }\n",
       "\n",
       "    .dataframe thead th {\n",
       "        text-align: right;\n",
       "    }\n",
       "</style>\n",
       "<table border=\"1\" class=\"dataframe\">\n",
       "  <thead>\n",
       "    <tr style=\"text-align: right;\">\n",
       "      <th></th>\n",
       "      <th>MouseID</th>\n",
       "      <th>DYRK1A_N</th>\n",
       "      <th>ITSN1_N</th>\n",
       "      <th>BDNF_N</th>\n",
       "      <th>NR1_N</th>\n",
       "      <th>NR2A_N</th>\n",
       "      <th>pAKT_N</th>\n",
       "      <th>pBRAF_N</th>\n",
       "      <th>pCAMKII_N</th>\n",
       "      <th>pCREB_N</th>\n",
       "      <th>...</th>\n",
       "      <th>pCFOS_N</th>\n",
       "      <th>SYP_N</th>\n",
       "      <th>H3AcK18_N</th>\n",
       "      <th>EGR1_N</th>\n",
       "      <th>H3MeK4_N</th>\n",
       "      <th>CaNA_N</th>\n",
       "      <th>Genotype</th>\n",
       "      <th>Treatment</th>\n",
       "      <th>Behavior</th>\n",
       "      <th>class</th>\n",
       "    </tr>\n",
       "  </thead>\n",
       "  <tbody>\n",
       "    <tr>\n",
       "      <th>0</th>\n",
       "      <td>'309_1'</td>\n",
       "      <td>0.503644</td>\n",
       "      <td>0.747193</td>\n",
       "      <td>0.430175</td>\n",
       "      <td>2.816329</td>\n",
       "      <td>5.990152</td>\n",
       "      <td>0.218830</td>\n",
       "      <td>0.177565</td>\n",
       "      <td>2.373744</td>\n",
       "      <td>0.232224</td>\n",
       "      <td>...</td>\n",
       "      <td>0.108336</td>\n",
       "      <td>0.427099</td>\n",
       "      <td>0.114783</td>\n",
       "      <td>0.131790</td>\n",
       "      <td>0.128186</td>\n",
       "      <td>1.675652</td>\n",
       "      <td>'Control'</td>\n",
       "      <td>'Memantine'</td>\n",
       "      <td>'C/S'</td>\n",
       "      <td>'c-CS-m'</td>\n",
       "    </tr>\n",
       "    <tr>\n",
       "      <th>1</th>\n",
       "      <td>'309_2'</td>\n",
       "      <td>0.514617</td>\n",
       "      <td>0.689064</td>\n",
       "      <td>0.411770</td>\n",
       "      <td>2.789514</td>\n",
       "      <td>5.685038</td>\n",
       "      <td>0.211636</td>\n",
       "      <td>0.172817</td>\n",
       "      <td>2.292150</td>\n",
       "      <td>0.226972</td>\n",
       "      <td>...</td>\n",
       "      <td>0.104315</td>\n",
       "      <td>0.441581</td>\n",
       "      <td>0.111974</td>\n",
       "      <td>0.135103</td>\n",
       "      <td>0.131119</td>\n",
       "      <td>1.743610</td>\n",
       "      <td>'Control'</td>\n",
       "      <td>'Memantine'</td>\n",
       "      <td>'C/S'</td>\n",
       "      <td>'c-CS-m'</td>\n",
       "    </tr>\n",
       "    <tr>\n",
       "      <th>2</th>\n",
       "      <td>'309_3'</td>\n",
       "      <td>0.509183</td>\n",
       "      <td>0.730247</td>\n",
       "      <td>0.418309</td>\n",
       "      <td>2.687201</td>\n",
       "      <td>5.622059</td>\n",
       "      <td>0.209011</td>\n",
       "      <td>0.175722</td>\n",
       "      <td>2.283337</td>\n",
       "      <td>0.230247</td>\n",
       "      <td>...</td>\n",
       "      <td>0.106219</td>\n",
       "      <td>0.435777</td>\n",
       "      <td>0.111883</td>\n",
       "      <td>0.133362</td>\n",
       "      <td>0.127431</td>\n",
       "      <td>1.926427</td>\n",
       "      <td>'Control'</td>\n",
       "      <td>'Memantine'</td>\n",
       "      <td>'C/S'</td>\n",
       "      <td>'c-CS-m'</td>\n",
       "    </tr>\n",
       "    <tr>\n",
       "      <th>3</th>\n",
       "      <td>'309_4'</td>\n",
       "      <td>0.442107</td>\n",
       "      <td>0.617076</td>\n",
       "      <td>0.358626</td>\n",
       "      <td>2.466947</td>\n",
       "      <td>4.979503</td>\n",
       "      <td>0.222886</td>\n",
       "      <td>0.176463</td>\n",
       "      <td>2.152301</td>\n",
       "      <td>0.207004</td>\n",
       "      <td>...</td>\n",
       "      <td>0.111262</td>\n",
       "      <td>0.391691</td>\n",
       "      <td>0.130405</td>\n",
       "      <td>0.147444</td>\n",
       "      <td>0.146901</td>\n",
       "      <td>1.700563</td>\n",
       "      <td>'Control'</td>\n",
       "      <td>'Memantine'</td>\n",
       "      <td>'C/S'</td>\n",
       "      <td>'c-CS-m'</td>\n",
       "    </tr>\n",
       "    <tr>\n",
       "      <th>4</th>\n",
       "      <td>'309_5'</td>\n",
       "      <td>0.434940</td>\n",
       "      <td>0.617430</td>\n",
       "      <td>0.358802</td>\n",
       "      <td>2.365785</td>\n",
       "      <td>4.718679</td>\n",
       "      <td>0.213106</td>\n",
       "      <td>0.173627</td>\n",
       "      <td>2.134014</td>\n",
       "      <td>0.192158</td>\n",
       "      <td>...</td>\n",
       "      <td>0.110694</td>\n",
       "      <td>0.434154</td>\n",
       "      <td>0.118481</td>\n",
       "      <td>0.140314</td>\n",
       "      <td>0.148380</td>\n",
       "      <td>1.839730</td>\n",
       "      <td>'Control'</td>\n",
       "      <td>'Memantine'</td>\n",
       "      <td>'C/S'</td>\n",
       "      <td>'c-CS-m'</td>\n",
       "    </tr>\n",
       "  </tbody>\n",
       "</table>\n",
       "<p>5 rows × 82 columns</p>\n",
       "</div>"
      ],
      "text/plain": [
       "   MouseID  DYRK1A_N   ITSN1_N    BDNF_N     NR1_N    NR2A_N    pAKT_N  \\\n",
       "0  '309_1'  0.503644  0.747193  0.430175  2.816329  5.990152  0.218830   \n",
       "1  '309_2'  0.514617  0.689064  0.411770  2.789514  5.685038  0.211636   \n",
       "2  '309_3'  0.509183  0.730247  0.418309  2.687201  5.622059  0.209011   \n",
       "3  '309_4'  0.442107  0.617076  0.358626  2.466947  4.979503  0.222886   \n",
       "4  '309_5'  0.434940  0.617430  0.358802  2.365785  4.718679  0.213106   \n",
       "\n",
       "    pBRAF_N  pCAMKII_N   pCREB_N  ...   pCFOS_N     SYP_N  H3AcK18_N  \\\n",
       "0  0.177565  2.373744   0.232224  ...  0.108336  0.427099  0.114783    \n",
       "1  0.172817  2.292150   0.226972  ...  0.104315  0.441581  0.111974    \n",
       "2  0.175722  2.283337   0.230247  ...  0.106219  0.435777  0.111883    \n",
       "3  0.176463  2.152301   0.207004  ...  0.111262  0.391691  0.130405    \n",
       "4  0.173627  2.134014   0.192158  ...  0.110694  0.434154  0.118481    \n",
       "\n",
       "     EGR1_N  H3MeK4_N    CaNA_N   Genotype    Treatment  Behavior     class  \n",
       "0  0.131790  0.128186  1.675652  'Control'  'Memantine'  'C/S'     'c-CS-m'  \n",
       "1  0.135103  0.131119  1.743610  'Control'  'Memantine'  'C/S'     'c-CS-m'  \n",
       "2  0.133362  0.127431  1.926427  'Control'  'Memantine'  'C/S'     'c-CS-m'  \n",
       "3  0.147444  0.146901  1.700563  'Control'  'Memantine'  'C/S'     'c-CS-m'  \n",
       "4  0.140314  0.148380  1.839730  'Control'  'Memantine'  'C/S'     'c-CS-m'  \n",
       "\n",
       "[5 rows x 82 columns]"
      ]
     },
     "execution_count": 8,
     "metadata": {},
     "output_type": "execute_result"
    }
   ],
   "source": [
    "mice.head()"
   ]
  },
  {
   "cell_type": "markdown",
   "metadata": {},
   "source": [
    "Now we have missing values in the name of \"NaN\""
   ]
  },
  {
   "cell_type": "code",
   "execution_count": 9,
   "metadata": {},
   "outputs": [
    {
     "data": {
      "text/plain": [
       "MouseID            0  \n",
       "DYRK1A_N           3  \n",
       "ITSN1_N            3  \n",
       "BDNF_N             3  \n",
       "NR1_N              3  \n",
       "NR2A_N             3  \n",
       "pAKT_N             3  \n",
       "pBRAF_N            3  \n",
       "pCAMKII_N          3  \n",
       "pCREB_N            3  \n",
       "pELK_N             3  \n",
       "pERK_N             3  \n",
       "pJNK_N             3  \n",
       "PKCA_N             3  \n",
       "pMEK_N             3  \n",
       "pNR1_N             3  \n",
       "pNR2A_N            3  \n",
       "pNR2B_N            3  \n",
       "pPKCAB_N           3  \n",
       "pRSK_N             3  \n",
       "AKT_N              3  \n",
       "BRAF_N             3  \n",
       "CAMKII_N           3  \n",
       "CREB_N             3  \n",
       "ELK_N              18 \n",
       "ERK_N              3  \n",
       "GSK3B_N            3  \n",
       "JNK_N              3  \n",
       "MEK_N              7  \n",
       "TRKA_N             3  \n",
       "                  ..  \n",
       "RRP1_N             0  \n",
       "BAX_N              0  \n",
       "ARC_N              0  \n",
       "ERBB4_N            0  \n",
       "nNOS_N             0  \n",
       "Tau_N              0  \n",
       "GFAP_N             0  \n",
       "GluR3_N            0  \n",
       "GluR4_N            0  \n",
       "IL1B_N             0  \n",
       "P3525_N            0  \n",
       "pCASP9_N           0  \n",
       "PSD95_N            0  \n",
       "SNCA_N             0  \n",
       "Ubiquitin_N        0  \n",
       "pGSK3B_Tyr216_N    0  \n",
       "SHH_N              0  \n",
       "BAD_N              213\n",
       "BCL2_N             285\n",
       "pS6_N              0  \n",
       "pCFOS_N            75 \n",
       "SYP_N              0  \n",
       "H3AcK18_N          180\n",
       "EGR1_N             210\n",
       "H3MeK4_N           270\n",
       "CaNA_N             0  \n",
       "Genotype           0  \n",
       "Treatment          0  \n",
       "Behavior           0  \n",
       "class              0  \n",
       "Length: 82, dtype: int64"
      ]
     },
     "execution_count": 9,
     "metadata": {},
     "output_type": "execute_result"
    }
   ],
   "source": [
    "mice.isnull().sum()"
   ]
  },
  {
   "cell_type": "markdown",
   "metadata": {},
   "source": [
    "now we have missing values"
   ]
  },
  {
   "cell_type": "markdown",
   "metadata": {},
   "source": [
    "### Step1: Fixing the Missing values"
   ]
  },
  {
   "cell_type": "code",
   "execution_count": 10,
   "metadata": {},
   "outputs": [],
   "source": [
    "mice.columns=mice.columns.str.lower()"
   ]
  },
  {
   "cell_type": "code",
   "execution_count": 11,
   "metadata": {},
   "outputs": [
    {
     "data": {
      "text/plain": [
       "Index(['mouseid', 'dyrk1a_n', 'itsn1_n', 'bdnf_n', 'nr1_n', 'nr2a_n', 'pakt_n',\n",
       "       'pbraf_n', 'pcamkii_n', 'pcreb_n', 'pelk_n', 'perk_n', 'pjnk_n',\n",
       "       'pkca_n', 'pmek_n', 'pnr1_n', 'pnr2a_n', 'pnr2b_n', 'ppkcab_n',\n",
       "       'prsk_n', 'akt_n', 'braf_n', 'camkii_n', 'creb_n', 'elk_n', 'erk_n',\n",
       "       'gsk3b_n', 'jnk_n', 'mek_n', 'trka_n', 'rsk_n', 'app_n', 'bcatenin_n',\n",
       "       'sod1_n', 'mtor_n', 'p38_n', 'pmtor_n', 'dscr1_n', 'ampka_n', 'nr2b_n',\n",
       "       'pnumb_n', 'raptor_n', 'tiam1_n', 'pp70s6_n', 'numb_n', 'p70s6_n',\n",
       "       'pgsk3b_n', 'ppkcg_n', 'cdk5_n', 's6_n', 'adarb1_n', 'acetylh3k9_n',\n",
       "       'rrp1_n', 'bax_n', 'arc_n', 'erbb4_n', 'nnos_n', 'tau_n', 'gfap_n',\n",
       "       'glur3_n', 'glur4_n', 'il1b_n', 'p3525_n', 'pcasp9_n', 'psd95_n',\n",
       "       'snca_n', 'ubiquitin_n', 'pgsk3b_tyr216_n', 'shh_n', 'bad_n', 'bcl2_n',\n",
       "       'ps6_n', 'pcfos_n', 'syp_n', 'h3ack18_n', 'egr1_n', 'h3mek4_n',\n",
       "       'cana_n', 'genotype', 'treatment', 'behavior', 'class'],\n",
       "      dtype='object')"
      ]
     },
     "execution_count": 11,
     "metadata": {},
     "output_type": "execute_result"
    }
   ],
   "source": [
    "mice.columns"
   ]
  },
  {
   "cell_type": "code",
   "execution_count": 12,
   "metadata": {},
   "outputs": [
    {
     "data": {
      "text/plain": [
       "float"
      ]
     },
     "execution_count": 12,
     "metadata": {},
     "output_type": "execute_result"
    }
   ],
   "source": [
    "type(np.NaN)"
   ]
  },
  {
   "cell_type": "markdown",
   "metadata": {},
   "source": [
    "As all the missing values are numeric I can use mean/median/mode. mostly it looks data which is familar as a chance I am imparting mean to cover the inequality in the dataset"
   ]
  },
  {
   "cell_type": "code",
   "execution_count": 13,
   "metadata": {},
   "outputs": [
    {
     "data": {
      "text/plain": [
       "count    1077.000000\n",
       "mean     0.425810   \n",
       "std      0.249362   \n",
       "min      0.145327   \n",
       "25%      0.288121   \n",
       "50%      0.366378   \n",
       "75%      0.487711   \n",
       "max      2.516367   \n",
       "Name: dyrk1a_n, dtype: float64"
      ]
     },
     "execution_count": 13,
     "metadata": {},
     "output_type": "execute_result"
    }
   ],
   "source": [
    "mice['dyrk1a_n'].describe()"
   ]
  },
  {
   "cell_type": "code",
   "execution_count": 14,
   "metadata": {},
   "outputs": [],
   "source": [
    "mice['dyrk1a_n'].fillna(mice['dyrk1a_n'].mean(), inplace=True)"
   ]
  },
  {
   "cell_type": "code",
   "execution_count": 15,
   "metadata": {},
   "outputs": [],
   "source": [
    "mi=mice"
   ]
  },
  {
   "cell_type": "markdown",
   "metadata": {},
   "source": [
    "I am just trying as  i have 45 columns as missing values i cannot impart or fix the missing value one by one.  So, let me do it at once"
   ]
  },
  {
   "cell_type": "code",
   "execution_count": 16,
   "metadata": {},
   "outputs": [],
   "source": [
    "mi.fillna(mi.mean(),inplace= True)"
   ]
  },
  {
   "cell_type": "code",
   "execution_count": 17,
   "metadata": {},
   "outputs": [
    {
     "data": {
      "text/plain": [
       "mouseid            0\n",
       "dyrk1a_n           0\n",
       "itsn1_n            0\n",
       "bdnf_n             0\n",
       "nr1_n              0\n",
       "nr2a_n             0\n",
       "pakt_n             0\n",
       "pbraf_n            0\n",
       "pcamkii_n          0\n",
       "pcreb_n            0\n",
       "pelk_n             0\n",
       "perk_n             0\n",
       "pjnk_n             0\n",
       "pkca_n             0\n",
       "pmek_n             0\n",
       "pnr1_n             0\n",
       "pnr2a_n            0\n",
       "pnr2b_n            0\n",
       "ppkcab_n           0\n",
       "prsk_n             0\n",
       "akt_n              0\n",
       "braf_n             0\n",
       "camkii_n           0\n",
       "creb_n             0\n",
       "elk_n              0\n",
       "erk_n              0\n",
       "gsk3b_n            0\n",
       "jnk_n              0\n",
       "mek_n              0\n",
       "trka_n             0\n",
       "                  ..\n",
       "rrp1_n             0\n",
       "bax_n              0\n",
       "arc_n              0\n",
       "erbb4_n            0\n",
       "nnos_n             0\n",
       "tau_n              0\n",
       "gfap_n             0\n",
       "glur3_n            0\n",
       "glur4_n            0\n",
       "il1b_n             0\n",
       "p3525_n            0\n",
       "pcasp9_n           0\n",
       "psd95_n            0\n",
       "snca_n             0\n",
       "ubiquitin_n        0\n",
       "pgsk3b_tyr216_n    0\n",
       "shh_n              0\n",
       "bad_n              0\n",
       "bcl2_n             0\n",
       "ps6_n              0\n",
       "pcfos_n            0\n",
       "syp_n              0\n",
       "h3ack18_n          0\n",
       "egr1_n             0\n",
       "h3mek4_n           0\n",
       "cana_n             0\n",
       "genotype           0\n",
       "treatment          0\n",
       "behavior           0\n",
       "class              0\n",
       "Length: 82, dtype: int64"
      ]
     },
     "execution_count": 17,
     "metadata": {},
     "output_type": "execute_result"
    }
   ],
   "source": [
    "mi.isnull().sum()"
   ]
  },
  {
   "cell_type": "code",
   "execution_count": 18,
   "metadata": {},
   "outputs": [
    {
     "data": {
      "text/html": [
       "<div>\n",
       "<style scoped>\n",
       "    .dataframe tbody tr th:only-of-type {\n",
       "        vertical-align: middle;\n",
       "    }\n",
       "\n",
       "    .dataframe tbody tr th {\n",
       "        vertical-align: top;\n",
       "    }\n",
       "\n",
       "    .dataframe thead th {\n",
       "        text-align: right;\n",
       "    }\n",
       "</style>\n",
       "<table border=\"1\" class=\"dataframe\">\n",
       "  <thead>\n",
       "    <tr style=\"text-align: right;\">\n",
       "      <th></th>\n",
       "      <th>mouseid</th>\n",
       "      <th>dyrk1a_n</th>\n",
       "      <th>itsn1_n</th>\n",
       "      <th>bdnf_n</th>\n",
       "      <th>nr1_n</th>\n",
       "      <th>nr2a_n</th>\n",
       "      <th>pakt_n</th>\n",
       "      <th>pbraf_n</th>\n",
       "      <th>pcamkii_n</th>\n",
       "      <th>pcreb_n</th>\n",
       "      <th>...</th>\n",
       "      <th>pcfos_n</th>\n",
       "      <th>syp_n</th>\n",
       "      <th>h3ack18_n</th>\n",
       "      <th>egr1_n</th>\n",
       "      <th>h3mek4_n</th>\n",
       "      <th>cana_n</th>\n",
       "      <th>genotype</th>\n",
       "      <th>treatment</th>\n",
       "      <th>behavior</th>\n",
       "      <th>class</th>\n",
       "    </tr>\n",
       "  </thead>\n",
       "  <tbody>\n",
       "    <tr>\n",
       "      <th>0</th>\n",
       "      <td>'309_1'</td>\n",
       "      <td>0.503644</td>\n",
       "      <td>0.747193</td>\n",
       "      <td>0.430175</td>\n",
       "      <td>2.816329</td>\n",
       "      <td>5.990152</td>\n",
       "      <td>0.218830</td>\n",
       "      <td>0.177565</td>\n",
       "      <td>2.373744</td>\n",
       "      <td>0.232224</td>\n",
       "      <td>...</td>\n",
       "      <td>0.108336</td>\n",
       "      <td>0.427099</td>\n",
       "      <td>0.114783</td>\n",
       "      <td>0.131790</td>\n",
       "      <td>0.128186</td>\n",
       "      <td>1.675652</td>\n",
       "      <td>'Control'</td>\n",
       "      <td>'Memantine'</td>\n",
       "      <td>'C/S'</td>\n",
       "      <td>'c-CS-m'</td>\n",
       "    </tr>\n",
       "    <tr>\n",
       "      <th>1</th>\n",
       "      <td>'309_2'</td>\n",
       "      <td>0.514617</td>\n",
       "      <td>0.689064</td>\n",
       "      <td>0.411770</td>\n",
       "      <td>2.789514</td>\n",
       "      <td>5.685038</td>\n",
       "      <td>0.211636</td>\n",
       "      <td>0.172817</td>\n",
       "      <td>2.292150</td>\n",
       "      <td>0.226972</td>\n",
       "      <td>...</td>\n",
       "      <td>0.104315</td>\n",
       "      <td>0.441581</td>\n",
       "      <td>0.111974</td>\n",
       "      <td>0.135103</td>\n",
       "      <td>0.131119</td>\n",
       "      <td>1.743610</td>\n",
       "      <td>'Control'</td>\n",
       "      <td>'Memantine'</td>\n",
       "      <td>'C/S'</td>\n",
       "      <td>'c-CS-m'</td>\n",
       "    </tr>\n",
       "    <tr>\n",
       "      <th>2</th>\n",
       "      <td>'309_3'</td>\n",
       "      <td>0.509183</td>\n",
       "      <td>0.730247</td>\n",
       "      <td>0.418309</td>\n",
       "      <td>2.687201</td>\n",
       "      <td>5.622059</td>\n",
       "      <td>0.209011</td>\n",
       "      <td>0.175722</td>\n",
       "      <td>2.283337</td>\n",
       "      <td>0.230247</td>\n",
       "      <td>...</td>\n",
       "      <td>0.106219</td>\n",
       "      <td>0.435777</td>\n",
       "      <td>0.111883</td>\n",
       "      <td>0.133362</td>\n",
       "      <td>0.127431</td>\n",
       "      <td>1.926427</td>\n",
       "      <td>'Control'</td>\n",
       "      <td>'Memantine'</td>\n",
       "      <td>'C/S'</td>\n",
       "      <td>'c-CS-m'</td>\n",
       "    </tr>\n",
       "    <tr>\n",
       "      <th>3</th>\n",
       "      <td>'309_4'</td>\n",
       "      <td>0.442107</td>\n",
       "      <td>0.617076</td>\n",
       "      <td>0.358626</td>\n",
       "      <td>2.466947</td>\n",
       "      <td>4.979503</td>\n",
       "      <td>0.222886</td>\n",
       "      <td>0.176463</td>\n",
       "      <td>2.152301</td>\n",
       "      <td>0.207004</td>\n",
       "      <td>...</td>\n",
       "      <td>0.111262</td>\n",
       "      <td>0.391691</td>\n",
       "      <td>0.130405</td>\n",
       "      <td>0.147444</td>\n",
       "      <td>0.146901</td>\n",
       "      <td>1.700563</td>\n",
       "      <td>'Control'</td>\n",
       "      <td>'Memantine'</td>\n",
       "      <td>'C/S'</td>\n",
       "      <td>'c-CS-m'</td>\n",
       "    </tr>\n",
       "    <tr>\n",
       "      <th>4</th>\n",
       "      <td>'309_5'</td>\n",
       "      <td>0.434940</td>\n",
       "      <td>0.617430</td>\n",
       "      <td>0.358802</td>\n",
       "      <td>2.365785</td>\n",
       "      <td>4.718679</td>\n",
       "      <td>0.213106</td>\n",
       "      <td>0.173627</td>\n",
       "      <td>2.134014</td>\n",
       "      <td>0.192158</td>\n",
       "      <td>...</td>\n",
       "      <td>0.110694</td>\n",
       "      <td>0.434154</td>\n",
       "      <td>0.118481</td>\n",
       "      <td>0.140314</td>\n",
       "      <td>0.148380</td>\n",
       "      <td>1.839730</td>\n",
       "      <td>'Control'</td>\n",
       "      <td>'Memantine'</td>\n",
       "      <td>'C/S'</td>\n",
       "      <td>'c-CS-m'</td>\n",
       "    </tr>\n",
       "  </tbody>\n",
       "</table>\n",
       "<p>5 rows × 82 columns</p>\n",
       "</div>"
      ],
      "text/plain": [
       "   mouseid  dyrk1a_n   itsn1_n    bdnf_n     nr1_n    nr2a_n    pakt_n  \\\n",
       "0  '309_1'  0.503644  0.747193  0.430175  2.816329  5.990152  0.218830   \n",
       "1  '309_2'  0.514617  0.689064  0.411770  2.789514  5.685038  0.211636   \n",
       "2  '309_3'  0.509183  0.730247  0.418309  2.687201  5.622059  0.209011   \n",
       "3  '309_4'  0.442107  0.617076  0.358626  2.466947  4.979503  0.222886   \n",
       "4  '309_5'  0.434940  0.617430  0.358802  2.365785  4.718679  0.213106   \n",
       "\n",
       "    pbraf_n  pcamkii_n   pcreb_n  ...   pcfos_n     syp_n  h3ack18_n  \\\n",
       "0  0.177565  2.373744   0.232224  ...  0.108336  0.427099  0.114783    \n",
       "1  0.172817  2.292150   0.226972  ...  0.104315  0.441581  0.111974    \n",
       "2  0.175722  2.283337   0.230247  ...  0.106219  0.435777  0.111883    \n",
       "3  0.176463  2.152301   0.207004  ...  0.111262  0.391691  0.130405    \n",
       "4  0.173627  2.134014   0.192158  ...  0.110694  0.434154  0.118481    \n",
       "\n",
       "     egr1_n  h3mek4_n    cana_n   genotype    treatment  behavior     class  \n",
       "0  0.131790  0.128186  1.675652  'Control'  'Memantine'  'C/S'     'c-CS-m'  \n",
       "1  0.135103  0.131119  1.743610  'Control'  'Memantine'  'C/S'     'c-CS-m'  \n",
       "2  0.133362  0.127431  1.926427  'Control'  'Memantine'  'C/S'     'c-CS-m'  \n",
       "3  0.147444  0.146901  1.700563  'Control'  'Memantine'  'C/S'     'c-CS-m'  \n",
       "4  0.140314  0.148380  1.839730  'Control'  'Memantine'  'C/S'     'c-CS-m'  \n",
       "\n",
       "[5 rows x 82 columns]"
      ]
     },
     "execution_count": 18,
     "metadata": {},
     "output_type": "execute_result"
    }
   ],
   "source": [
    "mi.head()"
   ]
  },
  {
   "cell_type": "markdown",
   "metadata": {},
   "source": [
    "let me drop mouse id it is not going to help us atall"
   ]
  },
  {
   "cell_type": "code",
   "execution_count": 19,
   "metadata": {},
   "outputs": [],
   "source": [
    "mi=mi.drop(columns=\"mouseid\")"
   ]
  },
  {
   "cell_type": "code",
   "execution_count": 20,
   "metadata": {
    "scrolled": true
   },
   "outputs": [
    {
     "data": {
      "text/html": [
       "<div>\n",
       "<style scoped>\n",
       "    .dataframe tbody tr th:only-of-type {\n",
       "        vertical-align: middle;\n",
       "    }\n",
       "\n",
       "    .dataframe tbody tr th {\n",
       "        vertical-align: top;\n",
       "    }\n",
       "\n",
       "    .dataframe thead th {\n",
       "        text-align: right;\n",
       "    }\n",
       "</style>\n",
       "<table border=\"1\" class=\"dataframe\">\n",
       "  <thead>\n",
       "    <tr style=\"text-align: right;\">\n",
       "      <th></th>\n",
       "      <th>dyrk1a_n</th>\n",
       "      <th>itsn1_n</th>\n",
       "      <th>bdnf_n</th>\n",
       "      <th>nr1_n</th>\n",
       "      <th>nr2a_n</th>\n",
       "      <th>pakt_n</th>\n",
       "      <th>pbraf_n</th>\n",
       "      <th>pcamkii_n</th>\n",
       "      <th>pcreb_n</th>\n",
       "      <th>pelk_n</th>\n",
       "      <th>...</th>\n",
       "      <th>pcfos_n</th>\n",
       "      <th>syp_n</th>\n",
       "      <th>h3ack18_n</th>\n",
       "      <th>egr1_n</th>\n",
       "      <th>h3mek4_n</th>\n",
       "      <th>cana_n</th>\n",
       "      <th>genotype</th>\n",
       "      <th>treatment</th>\n",
       "      <th>behavior</th>\n",
       "      <th>class</th>\n",
       "    </tr>\n",
       "  </thead>\n",
       "  <tbody>\n",
       "    <tr>\n",
       "      <th>0</th>\n",
       "      <td>0.503644</td>\n",
       "      <td>0.747193</td>\n",
       "      <td>0.430175</td>\n",
       "      <td>2.816329</td>\n",
       "      <td>5.990152</td>\n",
       "      <td>0.218830</td>\n",
       "      <td>0.177565</td>\n",
       "      <td>2.373744</td>\n",
       "      <td>0.232224</td>\n",
       "      <td>1.750936</td>\n",
       "      <td>...</td>\n",
       "      <td>0.108336</td>\n",
       "      <td>0.427099</td>\n",
       "      <td>0.114783</td>\n",
       "      <td>0.131790</td>\n",
       "      <td>0.128186</td>\n",
       "      <td>1.675652</td>\n",
       "      <td>'Control'</td>\n",
       "      <td>'Memantine'</td>\n",
       "      <td>'C/S'</td>\n",
       "      <td>'c-CS-m'</td>\n",
       "    </tr>\n",
       "    <tr>\n",
       "      <th>1</th>\n",
       "      <td>0.514617</td>\n",
       "      <td>0.689064</td>\n",
       "      <td>0.411770</td>\n",
       "      <td>2.789514</td>\n",
       "      <td>5.685038</td>\n",
       "      <td>0.211636</td>\n",
       "      <td>0.172817</td>\n",
       "      <td>2.292150</td>\n",
       "      <td>0.226972</td>\n",
       "      <td>1.596377</td>\n",
       "      <td>...</td>\n",
       "      <td>0.104315</td>\n",
       "      <td>0.441581</td>\n",
       "      <td>0.111974</td>\n",
       "      <td>0.135103</td>\n",
       "      <td>0.131119</td>\n",
       "      <td>1.743610</td>\n",
       "      <td>'Control'</td>\n",
       "      <td>'Memantine'</td>\n",
       "      <td>'C/S'</td>\n",
       "      <td>'c-CS-m'</td>\n",
       "    </tr>\n",
       "    <tr>\n",
       "      <th>2</th>\n",
       "      <td>0.509183</td>\n",
       "      <td>0.730247</td>\n",
       "      <td>0.418309</td>\n",
       "      <td>2.687201</td>\n",
       "      <td>5.622059</td>\n",
       "      <td>0.209011</td>\n",
       "      <td>0.175722</td>\n",
       "      <td>2.283337</td>\n",
       "      <td>0.230247</td>\n",
       "      <td>1.561316</td>\n",
       "      <td>...</td>\n",
       "      <td>0.106219</td>\n",
       "      <td>0.435777</td>\n",
       "      <td>0.111883</td>\n",
       "      <td>0.133362</td>\n",
       "      <td>0.127431</td>\n",
       "      <td>1.926427</td>\n",
       "      <td>'Control'</td>\n",
       "      <td>'Memantine'</td>\n",
       "      <td>'C/S'</td>\n",
       "      <td>'c-CS-m'</td>\n",
       "    </tr>\n",
       "    <tr>\n",
       "      <th>3</th>\n",
       "      <td>0.442107</td>\n",
       "      <td>0.617076</td>\n",
       "      <td>0.358626</td>\n",
       "      <td>2.466947</td>\n",
       "      <td>4.979503</td>\n",
       "      <td>0.222886</td>\n",
       "      <td>0.176463</td>\n",
       "      <td>2.152301</td>\n",
       "      <td>0.207004</td>\n",
       "      <td>1.595086</td>\n",
       "      <td>...</td>\n",
       "      <td>0.111262</td>\n",
       "      <td>0.391691</td>\n",
       "      <td>0.130405</td>\n",
       "      <td>0.147444</td>\n",
       "      <td>0.146901</td>\n",
       "      <td>1.700563</td>\n",
       "      <td>'Control'</td>\n",
       "      <td>'Memantine'</td>\n",
       "      <td>'C/S'</td>\n",
       "      <td>'c-CS-m'</td>\n",
       "    </tr>\n",
       "    <tr>\n",
       "      <th>4</th>\n",
       "      <td>0.434940</td>\n",
       "      <td>0.617430</td>\n",
       "      <td>0.358802</td>\n",
       "      <td>2.365785</td>\n",
       "      <td>4.718679</td>\n",
       "      <td>0.213106</td>\n",
       "      <td>0.173627</td>\n",
       "      <td>2.134014</td>\n",
       "      <td>0.192158</td>\n",
       "      <td>1.504230</td>\n",
       "      <td>...</td>\n",
       "      <td>0.110694</td>\n",
       "      <td>0.434154</td>\n",
       "      <td>0.118481</td>\n",
       "      <td>0.140314</td>\n",
       "      <td>0.148380</td>\n",
       "      <td>1.839730</td>\n",
       "      <td>'Control'</td>\n",
       "      <td>'Memantine'</td>\n",
       "      <td>'C/S'</td>\n",
       "      <td>'c-CS-m'</td>\n",
       "    </tr>\n",
       "  </tbody>\n",
       "</table>\n",
       "<p>5 rows × 81 columns</p>\n",
       "</div>"
      ],
      "text/plain": [
       "   dyrk1a_n   itsn1_n    bdnf_n     nr1_n    nr2a_n    pakt_n   pbraf_n  \\\n",
       "0  0.503644  0.747193  0.430175  2.816329  5.990152  0.218830  0.177565   \n",
       "1  0.514617  0.689064  0.411770  2.789514  5.685038  0.211636  0.172817   \n",
       "2  0.509183  0.730247  0.418309  2.687201  5.622059  0.209011  0.175722   \n",
       "3  0.442107  0.617076  0.358626  2.466947  4.979503  0.222886  0.176463   \n",
       "4  0.434940  0.617430  0.358802  2.365785  4.718679  0.213106  0.173627   \n",
       "\n",
       "   pcamkii_n   pcreb_n    pelk_n  ...   pcfos_n     syp_n  h3ack18_n  \\\n",
       "0  2.373744   0.232224  1.750936  ...  0.108336  0.427099  0.114783    \n",
       "1  2.292150   0.226972  1.596377  ...  0.104315  0.441581  0.111974    \n",
       "2  2.283337   0.230247  1.561316  ...  0.106219  0.435777  0.111883    \n",
       "3  2.152301   0.207004  1.595086  ...  0.111262  0.391691  0.130405    \n",
       "4  2.134014   0.192158  1.504230  ...  0.110694  0.434154  0.118481    \n",
       "\n",
       "     egr1_n  h3mek4_n    cana_n   genotype    treatment  behavior     class  \n",
       "0  0.131790  0.128186  1.675652  'Control'  'Memantine'  'C/S'     'c-CS-m'  \n",
       "1  0.135103  0.131119  1.743610  'Control'  'Memantine'  'C/S'     'c-CS-m'  \n",
       "2  0.133362  0.127431  1.926427  'Control'  'Memantine'  'C/S'     'c-CS-m'  \n",
       "3  0.147444  0.146901  1.700563  'Control'  'Memantine'  'C/S'     'c-CS-m'  \n",
       "4  0.140314  0.148380  1.839730  'Control'  'Memantine'  'C/S'     'c-CS-m'  \n",
       "\n",
       "[5 rows x 81 columns]"
      ]
     },
     "execution_count": 20,
     "metadata": {},
     "output_type": "execute_result"
    }
   ],
   "source": [
    "mi.head()"
   ]
  },
  {
   "cell_type": "code",
   "execution_count": 21,
   "metadata": {
    "scrolled": true
   },
   "outputs": [
    {
     "data": {
      "text/plain": [
       "dyrk1a_n           0.062009\n",
       "itsn1_n            0.063147\n",
       "bdnf_n             0.002432\n",
       "nr1_n              0.120277\n",
       "nr2a_n             0.868255\n",
       "pakt_n             0.001729\n",
       "pbraf_n            0.000729\n",
       "pcamkii_n          1.672800\n",
       "pcreb_n            0.001059\n",
       "pelk_n             0.217393\n",
       "perk_n             0.118907\n",
       "pjnk_n             0.002694\n",
       "pkca_n             0.002721\n",
       "pmek_n             0.002125\n",
       "pnr1_n             0.013878\n",
       "pnr2a_n            0.035251\n",
       "pnr2b_n            0.073095\n",
       "ppkcab_n           0.231467\n",
       "prsk_n             0.004433\n",
       "akt_n              0.016194\n",
       "braf_n             0.046694\n",
       "camkii_n           0.002733\n",
       "creb_n             0.000693\n",
       "elk_n              0.110871\n",
       "erk_n              0.425741\n",
       "gsk3b_n            0.059737\n",
       "jnk_n              0.001146\n",
       "mek_n              0.001676\n",
       "trka_n             0.014558\n",
       "rsk_n              0.000790\n",
       "                     ...   \n",
       "cdk5_n             0.001397\n",
       "s6_n               0.018890\n",
       "adarb1_n           0.130858\n",
       "acetylh3k9_n       0.034339\n",
       "rrp1_n             0.001017\n",
       "bax_n              0.000354\n",
       "arc_n              0.000204\n",
       "erbb4_n            0.000227\n",
       "nnos_n             0.000621\n",
       "tau_n              0.004762\n",
       "gfap_n             0.000175\n",
       "glur3_n            0.001217\n",
       "glur4_n            0.000723\n",
       "il1b_n             0.006733\n",
       "p3525_n            0.000901\n",
       "pcasp9_n           0.061569\n",
       "psd95_n            0.064717\n",
       "snca_n             0.000583\n",
       "ubiquitin_n        0.030130\n",
       "pgsk3b_tyr216_n    0.008895\n",
       "shh_n              0.000840\n",
       "bad_n              0.000700\n",
       "bcl2_n             0.000553\n",
       "ps6_n              0.000204\n",
       "pcfos_n            0.000530\n",
       "syp_n              0.004413\n",
       "h3ack18_n          0.002940\n",
       "egr1_n             0.001315\n",
       "h3mek4_n           0.002311\n",
       "cana_n             0.100569\n",
       "Length: 77, dtype: float64"
      ]
     },
     "execution_count": 21,
     "metadata": {},
     "output_type": "execute_result"
    }
   ],
   "source": [
    "mi.var()"
   ]
  },
  {
   "cell_type": "code",
   "execution_count": 22,
   "metadata": {},
   "outputs": [
    {
     "data": {
      "text/plain": [
       "'Control'    570\n",
       "'Ts65Dn'     510\n",
       "Name: genotype, dtype: int64"
      ]
     },
     "execution_count": 22,
     "metadata": {},
     "output_type": "execute_result"
    }
   ],
   "source": [
    "mi[\"genotype\"].value_counts()"
   ]
  },
  {
   "cell_type": "code",
   "execution_count": 23,
   "metadata": {},
   "outputs": [
    {
     "data": {
      "text/plain": [
       "'Memantine'    570\n",
       "'Saline'       510\n",
       "Name: treatment, dtype: int64"
      ]
     },
     "execution_count": 23,
     "metadata": {},
     "output_type": "execute_result"
    }
   ],
   "source": [
    "mi['treatment'].value_counts()"
   ]
  },
  {
   "cell_type": "code",
   "execution_count": 24,
   "metadata": {},
   "outputs": [
    {
     "data": {
      "text/plain": [
       "'S/C'    555\n",
       "'C/S'    525\n",
       "Name: behavior, dtype: int64"
      ]
     },
     "execution_count": 24,
     "metadata": {},
     "output_type": "execute_result"
    }
   ],
   "source": [
    "mi[\"behavior\"].value_counts()"
   ]
  },
  {
   "cell_type": "code",
   "execution_count": 25,
   "metadata": {},
   "outputs": [
    {
     "data": {
      "text/plain": [
       "'c-SC-m'    150\n",
       "'c-CS-m'    150\n",
       "'t-CS-m'    135\n",
       "'t-SC-s'    135\n",
       "'t-SC-m'    135\n",
       "'c-SC-s'    135\n",
       "'c-CS-s'    135\n",
       "'t-CS-s'    105\n",
       "Name: class, dtype: int64"
      ]
     },
     "execution_count": 25,
     "metadata": {},
     "output_type": "execute_result"
    }
   ],
   "source": [
    "mi[\"class\"].value_counts()"
   ]
  },
  {
   "cell_type": "markdown",
   "metadata": {},
   "source": [
    "#### So everything has 2-2 classification for every categorical value but only for class there are 8 varibales\n",
    "\n",
    "It seems that all the genotype, treatment and behavior effects the class variable and the combination of these 3 is the class variable so we can drop all these columns"
   ]
  },
  {
   "cell_type": "code",
   "execution_count": 26,
   "metadata": {},
   "outputs": [],
   "source": [
    "mi=mi.drop(columns=['genotype','treatment','behavior'])"
   ]
  },
  {
   "cell_type": "code",
   "execution_count": 27,
   "metadata": {},
   "outputs": [
    {
     "data": {
      "text/html": [
       "<div>\n",
       "<style scoped>\n",
       "    .dataframe tbody tr th:only-of-type {\n",
       "        vertical-align: middle;\n",
       "    }\n",
       "\n",
       "    .dataframe tbody tr th {\n",
       "        vertical-align: top;\n",
       "    }\n",
       "\n",
       "    .dataframe thead th {\n",
       "        text-align: right;\n",
       "    }\n",
       "</style>\n",
       "<table border=\"1\" class=\"dataframe\">\n",
       "  <thead>\n",
       "    <tr style=\"text-align: right;\">\n",
       "      <th></th>\n",
       "      <th>dyrk1a_n</th>\n",
       "      <th>itsn1_n</th>\n",
       "      <th>bdnf_n</th>\n",
       "      <th>nr1_n</th>\n",
       "      <th>nr2a_n</th>\n",
       "      <th>pakt_n</th>\n",
       "      <th>pbraf_n</th>\n",
       "      <th>pcamkii_n</th>\n",
       "      <th>pcreb_n</th>\n",
       "      <th>pelk_n</th>\n",
       "      <th>...</th>\n",
       "      <th>bad_n</th>\n",
       "      <th>bcl2_n</th>\n",
       "      <th>ps6_n</th>\n",
       "      <th>pcfos_n</th>\n",
       "      <th>syp_n</th>\n",
       "      <th>h3ack18_n</th>\n",
       "      <th>egr1_n</th>\n",
       "      <th>h3mek4_n</th>\n",
       "      <th>cana_n</th>\n",
       "      <th>class</th>\n",
       "    </tr>\n",
       "  </thead>\n",
       "  <tbody>\n",
       "    <tr>\n",
       "      <th>0</th>\n",
       "      <td>0.503644</td>\n",
       "      <td>0.747193</td>\n",
       "      <td>0.430175</td>\n",
       "      <td>2.816329</td>\n",
       "      <td>5.990152</td>\n",
       "      <td>0.218830</td>\n",
       "      <td>0.177565</td>\n",
       "      <td>2.373744</td>\n",
       "      <td>0.232224</td>\n",
       "      <td>1.750936</td>\n",
       "      <td>...</td>\n",
       "      <td>0.122652</td>\n",
       "      <td>0.134762</td>\n",
       "      <td>0.106305</td>\n",
       "      <td>0.108336</td>\n",
       "      <td>0.427099</td>\n",
       "      <td>0.114783</td>\n",
       "      <td>0.131790</td>\n",
       "      <td>0.128186</td>\n",
       "      <td>1.675652</td>\n",
       "      <td>'c-CS-m'</td>\n",
       "    </tr>\n",
       "    <tr>\n",
       "      <th>1</th>\n",
       "      <td>0.514617</td>\n",
       "      <td>0.689064</td>\n",
       "      <td>0.411770</td>\n",
       "      <td>2.789514</td>\n",
       "      <td>5.685038</td>\n",
       "      <td>0.211636</td>\n",
       "      <td>0.172817</td>\n",
       "      <td>2.292150</td>\n",
       "      <td>0.226972</td>\n",
       "      <td>1.596377</td>\n",
       "      <td>...</td>\n",
       "      <td>0.116682</td>\n",
       "      <td>0.134762</td>\n",
       "      <td>0.106592</td>\n",
       "      <td>0.104315</td>\n",
       "      <td>0.441581</td>\n",
       "      <td>0.111974</td>\n",
       "      <td>0.135103</td>\n",
       "      <td>0.131119</td>\n",
       "      <td>1.743610</td>\n",
       "      <td>'c-CS-m'</td>\n",
       "    </tr>\n",
       "    <tr>\n",
       "      <th>2</th>\n",
       "      <td>0.509183</td>\n",
       "      <td>0.730247</td>\n",
       "      <td>0.418309</td>\n",
       "      <td>2.687201</td>\n",
       "      <td>5.622059</td>\n",
       "      <td>0.209011</td>\n",
       "      <td>0.175722</td>\n",
       "      <td>2.283337</td>\n",
       "      <td>0.230247</td>\n",
       "      <td>1.561316</td>\n",
       "      <td>...</td>\n",
       "      <td>0.118508</td>\n",
       "      <td>0.134762</td>\n",
       "      <td>0.108303</td>\n",
       "      <td>0.106219</td>\n",
       "      <td>0.435777</td>\n",
       "      <td>0.111883</td>\n",
       "      <td>0.133362</td>\n",
       "      <td>0.127431</td>\n",
       "      <td>1.926427</td>\n",
       "      <td>'c-CS-m'</td>\n",
       "    </tr>\n",
       "    <tr>\n",
       "      <th>3</th>\n",
       "      <td>0.442107</td>\n",
       "      <td>0.617076</td>\n",
       "      <td>0.358626</td>\n",
       "      <td>2.466947</td>\n",
       "      <td>4.979503</td>\n",
       "      <td>0.222886</td>\n",
       "      <td>0.176463</td>\n",
       "      <td>2.152301</td>\n",
       "      <td>0.207004</td>\n",
       "      <td>1.595086</td>\n",
       "      <td>...</td>\n",
       "      <td>0.132781</td>\n",
       "      <td>0.134762</td>\n",
       "      <td>0.103184</td>\n",
       "      <td>0.111262</td>\n",
       "      <td>0.391691</td>\n",
       "      <td>0.130405</td>\n",
       "      <td>0.147444</td>\n",
       "      <td>0.146901</td>\n",
       "      <td>1.700563</td>\n",
       "      <td>'c-CS-m'</td>\n",
       "    </tr>\n",
       "    <tr>\n",
       "      <th>4</th>\n",
       "      <td>0.434940</td>\n",
       "      <td>0.617430</td>\n",
       "      <td>0.358802</td>\n",
       "      <td>2.365785</td>\n",
       "      <td>4.718679</td>\n",
       "      <td>0.213106</td>\n",
       "      <td>0.173627</td>\n",
       "      <td>2.134014</td>\n",
       "      <td>0.192158</td>\n",
       "      <td>1.504230</td>\n",
       "      <td>...</td>\n",
       "      <td>0.129954</td>\n",
       "      <td>0.134762</td>\n",
       "      <td>0.104784</td>\n",
       "      <td>0.110694</td>\n",
       "      <td>0.434154</td>\n",
       "      <td>0.118481</td>\n",
       "      <td>0.140314</td>\n",
       "      <td>0.148380</td>\n",
       "      <td>1.839730</td>\n",
       "      <td>'c-CS-m'</td>\n",
       "    </tr>\n",
       "  </tbody>\n",
       "</table>\n",
       "<p>5 rows × 78 columns</p>\n",
       "</div>"
      ],
      "text/plain": [
       "   dyrk1a_n   itsn1_n    bdnf_n     nr1_n    nr2a_n    pakt_n   pbraf_n  \\\n",
       "0  0.503644  0.747193  0.430175  2.816329  5.990152  0.218830  0.177565   \n",
       "1  0.514617  0.689064  0.411770  2.789514  5.685038  0.211636  0.172817   \n",
       "2  0.509183  0.730247  0.418309  2.687201  5.622059  0.209011  0.175722   \n",
       "3  0.442107  0.617076  0.358626  2.466947  4.979503  0.222886  0.176463   \n",
       "4  0.434940  0.617430  0.358802  2.365785  4.718679  0.213106  0.173627   \n",
       "\n",
       "   pcamkii_n   pcreb_n    pelk_n  ...     bad_n    bcl2_n     ps6_n   pcfos_n  \\\n",
       "0  2.373744   0.232224  1.750936  ...  0.122652  0.134762  0.106305  0.108336   \n",
       "1  2.292150   0.226972  1.596377  ...  0.116682  0.134762  0.106592  0.104315   \n",
       "2  2.283337   0.230247  1.561316  ...  0.118508  0.134762  0.108303  0.106219   \n",
       "3  2.152301   0.207004  1.595086  ...  0.132781  0.134762  0.103184  0.111262   \n",
       "4  2.134014   0.192158  1.504230  ...  0.129954  0.134762  0.104784  0.110694   \n",
       "\n",
       "      syp_n  h3ack18_n    egr1_n  h3mek4_n    cana_n     class  \n",
       "0  0.427099  0.114783   0.131790  0.128186  1.675652  'c-CS-m'  \n",
       "1  0.441581  0.111974   0.135103  0.131119  1.743610  'c-CS-m'  \n",
       "2  0.435777  0.111883   0.133362  0.127431  1.926427  'c-CS-m'  \n",
       "3  0.391691  0.130405   0.147444  0.146901  1.700563  'c-CS-m'  \n",
       "4  0.434154  0.118481   0.140314  0.148380  1.839730  'c-CS-m'  \n",
       "\n",
       "[5 rows x 78 columns]"
      ]
     },
     "execution_count": 27,
     "metadata": {},
     "output_type": "execute_result"
    }
   ],
   "source": [
    "mi.head()"
   ]
  },
  {
   "cell_type": "markdown",
   "metadata": {},
   "source": [
    "#### converting the variable names to the range 1-8"
   ]
  },
  {
   "cell_type": "code",
   "execution_count": 28,
   "metadata": {},
   "outputs": [
    {
     "name": "stdout",
     "output_type": "stream",
     "text": [
      "      dyrk1a_n   itsn1_n    bdnf_n     nr1_n    nr2a_n    pakt_n   pbraf_n  \\\n",
      "0     0.503644  0.747193  0.430175  2.816329  5.990152  0.218830  0.177565   \n",
      "1     0.514617  0.689064  0.411770  2.789514  5.685038  0.211636  0.172817   \n",
      "2     0.509183  0.730247  0.418309  2.687201  5.622059  0.209011  0.175722   \n",
      "3     0.442107  0.617076  0.358626  2.466947  4.979503  0.222886  0.176463   \n",
      "4     0.434940  0.617430  0.358802  2.365785  4.718679  0.213106  0.173627   \n",
      "5     0.447506  0.628176  0.367388  2.385939  4.807635  0.218578  0.176233   \n",
      "6     0.428033  0.573696  0.342709  2.334224  4.473130  0.225173  0.184004   \n",
      "7     0.416923  0.564036  0.327703  2.260135  4.268735  0.214834  0.179668   \n",
      "8     0.386311  0.538428  0.317720  2.125725  4.063950  0.207222  0.167778   \n",
      "9     0.380827  0.499294  0.362462  2.096266  3.598587  0.227649  0.188093   \n",
      "10    0.366511  0.513278  0.327792  2.072572  3.661058  0.229475  0.193797   \n",
      "11    0.364154  0.499411  0.355124  2.006871  3.466627  0.216333  0.204358   \n",
      "12    0.364873  0.482102  0.312539  1.946201  3.349592  0.230898  0.188821   \n",
      "13    0.381911  0.485914  0.310951  1.958907  3.349290  0.225800  0.188519   \n",
      "14    0.374410  0.462313  0.344629  1.861162  3.287123  0.221811  0.185459   \n",
      "15    0.743118  0.862653  0.377742  2.735757  6.067570  0.219049  0.185338   \n",
      "16    0.711480  0.807054  0.351591  2.546888  5.595574  0.199170  0.165975   \n",
      "17    0.704633  0.802537  0.350110  2.467733  5.548400  0.205323  0.165058   \n",
      "18    0.677359  0.770235  0.356397  2.563223  4.975196  0.228087  0.186498   \n",
      "19    0.591572  0.678768  0.312480  2.164182  4.313938  0.195786  0.161102   \n",
      "20    0.618517  0.716672  0.319701  2.285938  4.571180  0.206927  0.171598   \n",
      "21    0.702608  0.699581  0.387750  2.437587  4.449231  0.258500  0.197019   \n",
      "22    0.598869  0.690271  0.349774  2.308371  4.229412  0.221493  0.187104   \n",
      "23    0.561867  0.641892  0.308488  2.157728  4.020693  0.216427  0.173775   \n",
      "24    0.550970  0.561356  0.320853  2.197868  3.558896  0.237770  0.194589   \n",
      "25    0.538413  0.701865  0.384445  2.482137  4.109706  0.288018  0.223206   \n",
      "26    0.521127  0.583045  0.304279  2.053415  3.381345  0.251661  0.189476   \n",
      "27    0.488372  0.540086  0.291310  1.913403  2.873623  0.215422  0.210526   \n",
      "28    0.514855  0.564791  0.316056  1.957016  2.978824  0.250632  0.175095   \n",
      "29    0.485100  0.556375  0.287250  1.892166  2.847005  0.223041  0.177573   \n",
      "...        ...       ...       ...       ...       ...       ...       ...   \n",
      "1050  0.277107  0.514868  0.320348  2.365797  3.371250  0.234775  0.187378   \n",
      "1051  0.287189  0.523557  0.319746  2.425490  3.589465  0.244044  0.189254   \n",
      "1052  0.289370  0.526378  0.326299  2.383936  3.457267  0.237932  0.187549   \n",
      "1053  0.256109  0.455459  0.303124  2.213269  3.148469  0.236932  0.185895   \n",
      "1054  0.268433  0.447237  0.300984  2.157154  3.037699  0.235428  0.178350   \n",
      "1055  0.273664  0.476930  0.329317  2.222293  3.265261  0.238307  0.183288   \n",
      "1056  0.237047  0.413551  0.296071  2.140444  2.790283  0.241412  0.183336   \n",
      "1057  0.293881  0.400956  0.279350  2.124283  3.002868  0.247036  0.185851   \n",
      "1058  0.237272  0.408069  0.283381  2.131220  3.005764  0.247839  0.172719   \n",
      "1059  0.207143  0.373810  0.276429  2.082619  2.733571  0.295476  0.192619   \n",
      "1060  0.249584  0.377583  0.275944  2.052244  2.655189  0.257659  0.191166   \n",
      "1061  0.204136  0.401779  0.274345  2.081991  2.828565  0.268574  0.201250   \n",
      "1062  0.204065  0.328405  0.253432  1.889916  2.403379  0.271119  0.195354   \n",
      "1063  0.163325  0.332454  0.255145  1.901847  2.445910  0.539050  0.176781   \n",
      "1064  0.175857  0.347874  0.282579  2.007407  2.587106  0.261454  0.182716   \n",
      "1065  0.359146  0.634173  0.344688  2.715334  4.208981  0.223658  0.174699   \n",
      "1066  0.357104  0.632568  0.354467  2.694429  4.292385  0.226459  0.172618   \n",
      "1067  0.374019  0.661735  0.362811  2.791975  4.477023  0.222932  0.177651   \n",
      "1068  0.356012  0.585111  0.313620  2.545074  3.794452  0.221117  0.176501   \n",
      "1069  0.329829  0.573062  0.334691  2.548357  3.808279  0.229041  0.181603   \n",
      "1070  0.355136  0.588026  0.314915  2.544507  3.981010  0.224713  0.178030   \n",
      "1071  0.318448  0.509701  0.290576  2.314752  3.041115  0.229135  0.175855   \n",
      "1072  0.333438  0.514353  0.316404  2.317035  3.451893  0.235962  0.201262   \n",
      "1073  0.280946  0.528821  0.299645  2.290991  3.243548  0.246021  0.195797   \n",
      "1074  0.230977  0.423589  0.254439  1.868897  2.447210  0.209734  0.150761   \n",
      "1075  0.254860  0.463591  0.254860  2.092082  2.600035  0.211736  0.171262   \n",
      "1076  0.272198  0.474163  0.251638  2.161390  2.801492  0.251274  0.182496   \n",
      "1077  0.228700  0.395179  0.234118  1.733184  2.220852  0.220665  0.161435   \n",
      "1078  0.221242  0.412894  0.243974  1.876347  2.384088  0.208897  0.173623   \n",
      "1079  0.302626  0.461059  0.256564  2.092790  2.594348  0.251001  0.191811   \n",
      "\n",
      "      pcamkii_n   pcreb_n    pelk_n  ...     bad_n    bcl2_n     ps6_n  \\\n",
      "0     2.373744   0.232224  1.750936  ...  0.122652  0.134762  0.106305   \n",
      "1     2.292150   0.226972  1.596377  ...  0.116682  0.134762  0.106592   \n",
      "2     2.283337   0.230247  1.561316  ...  0.118508  0.134762  0.108303   \n",
      "3     2.152301   0.207004  1.595086  ...  0.132781  0.134762  0.103184   \n",
      "4     2.134014   0.192158  1.504230  ...  0.129954  0.134762  0.104784   \n",
      "5     2.141282   0.195188  1.442398  ...  0.131575  0.134762  0.106476   \n",
      "6     2.012414   0.195789  1.612036  ...  0.141806  0.134762  0.097834   \n",
      "7     2.007985   0.189803  1.424601  ...  0.141013  0.134762  0.099494   \n",
      "8     1.861514   0.180684  1.261891  ...  0.139589  0.134762  0.105145   \n",
      "9     1.717861   0.188093  1.414329  ...  0.183678  0.134762  0.093300   \n",
      "10    1.724508   0.185283  1.318670  ...  0.168037  0.134762  0.094357   \n",
      "11    1.672556   0.190224  1.166078  ...  0.166312  0.134762  0.098415   \n",
      "12    1.508687   0.171028  1.353360  ...  0.200276  0.134762  0.097652   \n",
      "13    1.509002   0.179835  1.219657  ...  0.196034  0.134762  0.094642   \n",
      "14    1.444239   0.176422  1.123023  ...  0.183954  0.134762  0.099140   \n",
      "15    2.277492   0.194465  2.379508  ...  0.138526  0.178604  0.138655   \n",
      "16    2.118811   0.174689  2.050484  ...  0.132093  0.143588  0.111362   \n",
      "17    2.107281   0.171401  1.938913  ...  0.131126  0.132887  0.112036   \n",
      "18    2.259045   0.190974  2.167848  ...  0.157685  0.182391  0.111507   \n",
      "19    1.975689   0.161912  1.768720  ...  0.169139  0.163775  0.100578   \n",
      "20    2.127045   0.174556  1.767316  ...  0.143492  0.143073  0.110682   \n",
      "21    2.091057   0.182115  2.171402  ...  0.167880  0.202294  0.104897   \n",
      "22    2.045475   0.176697  1.922172  ...  0.167400  0.178342  0.112352   \n",
      "23    1.940878   0.168074  1.728041  ...  0.155462  0.160438  0.103605   \n",
      "24    1.783821   0.178191  1.831375  ...  0.193632  0.198961  0.104263   \n",
      "25    2.082833   0.202023  1.965223  ...  0.222434  0.170033  0.097980   \n",
      "26    1.800957   0.178049  1.517672  ...  0.179758  0.168637  0.110079   \n",
      "27    1.414933   0.162485  1.689412  ...  0.196251  0.198299  0.075445   \n",
      "28    1.487358   0.162137  1.678571  ...  0.173969  0.161657  0.091461   \n",
      "29    1.462366   0.169892  1.537942  ...  0.165875  0.151302  0.093172   \n",
      "...        ...        ...       ...  ...       ...       ...       ...   \n",
      "1050  3.709518   0.245033  1.067524  ...  0.135458  0.134762  0.114524   \n",
      "1051  3.807835   0.250662  1.075172  ...  0.130058  0.134762  0.113900   \n",
      "1052  3.761936   0.252968  1.103271  ...  0.128670  0.134762  0.115332   \n",
      "1053  3.479586   0.229044  1.012218  ...  0.150077  0.134762  0.115872   \n",
      "1054  3.346101   0.232248  0.989856  ...  0.148007  0.134762  0.114152   \n",
      "1055  3.551609   0.245759  1.036785  ...  0.150353  0.134762  0.112929   \n",
      "1056  3.255456   0.227747  1.026571  ...  0.156019  0.134762  0.117662   \n",
      "1057  3.252964   0.238241  1.015870  ...  0.165279  0.134762  0.113334   \n",
      "1058  3.278770   0.236888  1.017291  ...  0.159695  0.134762  0.106867   \n",
      "1059  3.015238   0.274524  1.026190  ...  0.181096  0.134762  0.117056   \n",
      "1060  2.966991   0.243173  1.022560  ...  0.172783  0.134762  0.111897   \n",
      "1061  3.035105   0.250541  1.040635  ...  0.181337  0.134762  0.109989   \n",
      "1062  2.675554   0.274551  0.967265  ...  0.186070  0.134762  0.112806   \n",
      "1063  2.731398   0.243536  1.005013  ...  0.209859  0.134762  0.120270   \n",
      "1064  2.868313   0.247462  1.056790  ...  0.197558  0.134762  0.112490   \n",
      "1065  3.683352   0.259693  1.273494  ...  0.149521  0.134762  0.119351   \n",
      "1066  3.590594   0.251621  1.300407  ...  0.145171  0.134762  0.119220   \n",
      "1067  3.748599   0.261488  1.358888  ...  0.144965  0.134762  0.119998   \n",
      "1068  3.232369   0.231192  1.156483  ...  0.168671  0.134762  0.125809   \n",
      "1069  3.299343   0.228909  1.193035  ...  0.163371  0.134762  0.121536   \n",
      "1070  3.326520   0.241857  1.236318  ...  0.159896  0.134762  0.124025   \n",
      "1071  2.881429   0.206036  1.088389  ...  0.172424  0.134762  0.127866   \n",
      "1072  2.955047   0.215457  1.118612  ...  0.168864  0.134762  0.117778   \n",
      "1073  2.946067   0.221759  1.141400  ...  0.167114  0.134762  0.122148   \n",
      "1074  2.184052   0.187381  0.949746  ...  0.207897  0.134762  0.117875   \n",
      "1075  2.483740   0.207317  1.057971  ...  0.190483  0.134762  0.115806   \n",
      "1076  2.512737   0.216339  1.081150  ...  0.190463  0.134762  0.113614   \n",
      "1077  1.989723   0.185164  0.884342  ...  0.216682  0.134762  0.118948   \n",
      "1078  2.086028   0.192044  0.922595  ...  0.222263  0.134762  0.125295   \n",
      "1079  2.361816   0.223632  1.064085  ...  0.227606  0.134762  0.118899   \n",
      "\n",
      "       pcfos_n     syp_n  h3ack18_n    egr1_n  h3mek4_n    cana_n  class  \n",
      "0     0.108336  0.427099  0.114783   0.131790  0.128186  1.675652  1      \n",
      "1     0.104315  0.441581  0.111974   0.135103  0.131119  1.743610  1      \n",
      "2     0.106219  0.435777  0.111883   0.133362  0.127431  1.926427  1      \n",
      "3     0.111262  0.391691  0.130405   0.147444  0.146901  1.700563  1      \n",
      "4     0.110694  0.434154  0.118481   0.140314  0.148380  1.839730  1      \n",
      "5     0.109446  0.439833  0.116657   0.140766  0.142180  1.816389  1      \n",
      "6     0.111483  0.406293  0.137229   0.156682  0.157499  1.528484  1      \n",
      "7     0.113080  0.382532  0.123376   0.155612  0.159409  1.652658  1      \n",
      "8     0.105490  0.435687  0.125173   0.152711  0.158235  1.834599  1      \n",
      "9     0.116906  0.414793  0.146133   0.188849  0.192334  1.516862  1      \n",
      "10    0.131254  0.385424  0.151816   0.184601  0.193055  1.613548  1      \n",
      "11    0.125266  0.442394  0.149988   0.191862  0.195529  1.722971  1      \n",
      "12    0.126934  0.440331  0.168370   0.236878  0.214088  1.426934  1      \n",
      "13    0.125018  0.422163  0.178737   0.215581  0.225285  1.500070  1      \n",
      "14    0.125788  0.446562  0.160602   0.227937  0.224212  1.613897  1      \n",
      "15    0.131053  0.440142  0.129606   0.165288  0.163995  1.297220  1      \n",
      "16    0.131053  0.454352  0.117010   0.162857  0.158206  1.363189  1      \n",
      "17    0.131053  0.454509  0.111089   0.157731  0.158543  1.404481  1      \n",
      "18    0.131053  0.458548  0.156690   0.180153  0.195739  1.170038  1      \n",
      "19    0.131053  0.425027  0.126896   0.172995  0.169977  1.272986  1      \n",
      "20    0.131053  0.439456  0.117060   0.171352  0.159940  1.279936  1      \n",
      "21    0.131053  0.407346  0.148026   0.215089  0.239907  1.178248  1      \n",
      "22    0.131053  0.471517  0.147208   0.234179  0.197067  1.219966  1      \n",
      "23    0.131053  0.444272  0.134454   0.189850  0.183547  1.246130  1      \n",
      "24    0.131053  0.430309  0.170812   0.228614  0.233124  1.077480  1      \n",
      "25    0.131053  0.406250  0.167849   0.216976  0.206741  1.144378  1      \n",
      "26    0.131053  0.389358  0.148226   0.269003  0.243806  1.238457  1      \n",
      "27    0.131053  0.411246  0.155773   0.222555  0.267759  0.981414  1      \n",
      "28    0.131053  0.408219  0.148705   0.215222  0.217621  0.994404  1      \n",
      "29    0.131053  0.361061  0.143278   0.218929  0.208286  1.030948  1      \n",
      "...        ...       ...       ...        ...       ...       ... ..      \n",
      "1050  0.131053  0.315972  0.292285   0.134589  0.234915  1.344585  6      \n",
      "1051  0.131053  0.305273  0.287167   0.127822  0.220443  1.372286  6      \n",
      "1052  0.131053  0.315767  0.283509   0.126930  0.221095  1.314824  6      \n",
      "1053  0.131053  0.332148  0.316103   0.154785  0.234147  1.429285  6      \n",
      "1054  0.131053  0.325863  0.318043   0.139615  0.231451  1.415602  6      \n",
      "1055  0.131053  0.316878  0.300141   0.136436  0.233004  1.332487  6      \n",
      "1056  0.131053  0.322274  0.287124   0.162432  0.249507  1.383078  6      \n",
      "1057  0.131053  0.328073  0.308935   0.161178  0.266186  1.362247  6      \n",
      "1058  0.131053  0.319028  0.272244   0.154014  0.224613  1.336074  6      \n",
      "1059  0.131053  0.337549  0.303502   0.170396  0.285182  1.375973  6      \n",
      "1060  0.131053  0.338489  0.289617   0.169821  0.270857  1.398058  6      \n",
      "1061  0.131053  0.337342  0.286516   0.190156  0.246914  1.304634  6      \n",
      "1062  0.131053  0.345243  0.297069   0.182858  0.278202  1.308912  6      \n",
      "1063  0.131053  0.398036  0.289016   0.201268  0.280630  1.362446  6      \n",
      "1064  0.131053  0.372298  0.277622   0.188551  0.278823  1.297038  6      \n",
      "1065  0.106507  0.398098  0.293833   0.158488  0.241064  1.360293  6      \n",
      "1066  0.111031  0.402878  0.293172   0.152697  0.228565  1.375361  6      \n",
      "1067  0.103273  0.414168  0.286047   0.161570  0.224226  1.257854  6      \n",
      "1068  0.112550  0.428230  0.295791   0.180928  0.255319  1.379201  6      \n",
      "1069  0.106726  0.397435  0.297733   0.178258  0.246278  1.390946  6      \n",
      "1070  0.107092  0.394801  0.290680   0.163461  0.240104  1.335982  6      \n",
      "1071  0.127265  0.405127  0.307199   0.192350  0.269951  1.340743  6      \n",
      "1072  0.110314  0.395405  0.277821   0.170415  0.261535  1.296917  6      \n",
      "1073  0.105369  0.408533  0.277181   0.182646  0.237009  1.297315  6      \n",
      "1074  0.175592  0.389950  0.294329   0.199856  0.308112  1.420244  6      \n",
      "1075  0.183324  0.374088  0.318782   0.204660  0.328327  1.364823  6      \n",
      "1076  0.175674  0.375259  0.325639   0.200415  0.293435  1.364478  6      \n",
      "1077  0.158296  0.422121  0.321306   0.229193  0.355213  1.430825  6      \n",
      "1078  0.196296  0.397676  0.335936   0.251317  0.365353  1.404031  6      \n",
      "1079  0.187556  0.420347  0.335062   0.252995  0.365278  1.370999  6      \n",
      "\n",
      "[1080 rows x 78 columns]\n"
     ]
    }
   ],
   "source": [
    "target = {\"'c-CS-m'\": 1, \"'c-SC-m'\": 2,\n",
    "      \"'c-SC-s'\": 3, \"'t-CS-m'\": 4,\n",
    "      \"'t-SC-m'\": 5, \"'t-SC-s'\": 6,\n",
    "      \"'c-CS-s'\": 7, \"'t-CS-s'\": 8}\n",
    "mi['class']= [target[i] for i in mi['class']] \n",
    "print(mi) "
   ]
  },
  {
   "cell_type": "code",
   "execution_count": 29,
   "metadata": {
    "scrolled": true
   },
   "outputs": [
    {
     "data": {
      "text/html": [
       "<div>\n",
       "<style scoped>\n",
       "    .dataframe tbody tr th:only-of-type {\n",
       "        vertical-align: middle;\n",
       "    }\n",
       "\n",
       "    .dataframe tbody tr th {\n",
       "        vertical-align: top;\n",
       "    }\n",
       "\n",
       "    .dataframe thead th {\n",
       "        text-align: right;\n",
       "    }\n",
       "</style>\n",
       "<table border=\"1\" class=\"dataframe\">\n",
       "  <thead>\n",
       "    <tr style=\"text-align: right;\">\n",
       "      <th></th>\n",
       "      <th>dyrk1a_n</th>\n",
       "      <th>itsn1_n</th>\n",
       "      <th>bdnf_n</th>\n",
       "      <th>nr1_n</th>\n",
       "      <th>nr2a_n</th>\n",
       "      <th>pakt_n</th>\n",
       "      <th>pbraf_n</th>\n",
       "      <th>pcamkii_n</th>\n",
       "      <th>pcreb_n</th>\n",
       "      <th>pelk_n</th>\n",
       "      <th>...</th>\n",
       "      <th>bad_n</th>\n",
       "      <th>bcl2_n</th>\n",
       "      <th>ps6_n</th>\n",
       "      <th>pcfos_n</th>\n",
       "      <th>syp_n</th>\n",
       "      <th>h3ack18_n</th>\n",
       "      <th>egr1_n</th>\n",
       "      <th>h3mek4_n</th>\n",
       "      <th>cana_n</th>\n",
       "      <th>class</th>\n",
       "    </tr>\n",
       "  </thead>\n",
       "  <tbody>\n",
       "    <tr>\n",
       "      <th>0</th>\n",
       "      <td>0.503644</td>\n",
       "      <td>0.747193</td>\n",
       "      <td>0.430175</td>\n",
       "      <td>2.816329</td>\n",
       "      <td>5.990152</td>\n",
       "      <td>0.218830</td>\n",
       "      <td>0.177565</td>\n",
       "      <td>2.373744</td>\n",
       "      <td>0.232224</td>\n",
       "      <td>1.750936</td>\n",
       "      <td>...</td>\n",
       "      <td>0.122652</td>\n",
       "      <td>0.134762</td>\n",
       "      <td>0.106305</td>\n",
       "      <td>0.108336</td>\n",
       "      <td>0.427099</td>\n",
       "      <td>0.114783</td>\n",
       "      <td>0.131790</td>\n",
       "      <td>0.128186</td>\n",
       "      <td>1.675652</td>\n",
       "      <td>1</td>\n",
       "    </tr>\n",
       "    <tr>\n",
       "      <th>1</th>\n",
       "      <td>0.514617</td>\n",
       "      <td>0.689064</td>\n",
       "      <td>0.411770</td>\n",
       "      <td>2.789514</td>\n",
       "      <td>5.685038</td>\n",
       "      <td>0.211636</td>\n",
       "      <td>0.172817</td>\n",
       "      <td>2.292150</td>\n",
       "      <td>0.226972</td>\n",
       "      <td>1.596377</td>\n",
       "      <td>...</td>\n",
       "      <td>0.116682</td>\n",
       "      <td>0.134762</td>\n",
       "      <td>0.106592</td>\n",
       "      <td>0.104315</td>\n",
       "      <td>0.441581</td>\n",
       "      <td>0.111974</td>\n",
       "      <td>0.135103</td>\n",
       "      <td>0.131119</td>\n",
       "      <td>1.743610</td>\n",
       "      <td>1</td>\n",
       "    </tr>\n",
       "    <tr>\n",
       "      <th>2</th>\n",
       "      <td>0.509183</td>\n",
       "      <td>0.730247</td>\n",
       "      <td>0.418309</td>\n",
       "      <td>2.687201</td>\n",
       "      <td>5.622059</td>\n",
       "      <td>0.209011</td>\n",
       "      <td>0.175722</td>\n",
       "      <td>2.283337</td>\n",
       "      <td>0.230247</td>\n",
       "      <td>1.561316</td>\n",
       "      <td>...</td>\n",
       "      <td>0.118508</td>\n",
       "      <td>0.134762</td>\n",
       "      <td>0.108303</td>\n",
       "      <td>0.106219</td>\n",
       "      <td>0.435777</td>\n",
       "      <td>0.111883</td>\n",
       "      <td>0.133362</td>\n",
       "      <td>0.127431</td>\n",
       "      <td>1.926427</td>\n",
       "      <td>1</td>\n",
       "    </tr>\n",
       "    <tr>\n",
       "      <th>3</th>\n",
       "      <td>0.442107</td>\n",
       "      <td>0.617076</td>\n",
       "      <td>0.358626</td>\n",
       "      <td>2.466947</td>\n",
       "      <td>4.979503</td>\n",
       "      <td>0.222886</td>\n",
       "      <td>0.176463</td>\n",
       "      <td>2.152301</td>\n",
       "      <td>0.207004</td>\n",
       "      <td>1.595086</td>\n",
       "      <td>...</td>\n",
       "      <td>0.132781</td>\n",
       "      <td>0.134762</td>\n",
       "      <td>0.103184</td>\n",
       "      <td>0.111262</td>\n",
       "      <td>0.391691</td>\n",
       "      <td>0.130405</td>\n",
       "      <td>0.147444</td>\n",
       "      <td>0.146901</td>\n",
       "      <td>1.700563</td>\n",
       "      <td>1</td>\n",
       "    </tr>\n",
       "    <tr>\n",
       "      <th>4</th>\n",
       "      <td>0.434940</td>\n",
       "      <td>0.617430</td>\n",
       "      <td>0.358802</td>\n",
       "      <td>2.365785</td>\n",
       "      <td>4.718679</td>\n",
       "      <td>0.213106</td>\n",
       "      <td>0.173627</td>\n",
       "      <td>2.134014</td>\n",
       "      <td>0.192158</td>\n",
       "      <td>1.504230</td>\n",
       "      <td>...</td>\n",
       "      <td>0.129954</td>\n",
       "      <td>0.134762</td>\n",
       "      <td>0.104784</td>\n",
       "      <td>0.110694</td>\n",
       "      <td>0.434154</td>\n",
       "      <td>0.118481</td>\n",
       "      <td>0.140314</td>\n",
       "      <td>0.148380</td>\n",
       "      <td>1.839730</td>\n",
       "      <td>1</td>\n",
       "    </tr>\n",
       "  </tbody>\n",
       "</table>\n",
       "<p>5 rows × 78 columns</p>\n",
       "</div>"
      ],
      "text/plain": [
       "   dyrk1a_n   itsn1_n    bdnf_n     nr1_n    nr2a_n    pakt_n   pbraf_n  \\\n",
       "0  0.503644  0.747193  0.430175  2.816329  5.990152  0.218830  0.177565   \n",
       "1  0.514617  0.689064  0.411770  2.789514  5.685038  0.211636  0.172817   \n",
       "2  0.509183  0.730247  0.418309  2.687201  5.622059  0.209011  0.175722   \n",
       "3  0.442107  0.617076  0.358626  2.466947  4.979503  0.222886  0.176463   \n",
       "4  0.434940  0.617430  0.358802  2.365785  4.718679  0.213106  0.173627   \n",
       "\n",
       "   pcamkii_n   pcreb_n    pelk_n  ...     bad_n    bcl2_n     ps6_n   pcfos_n  \\\n",
       "0  2.373744   0.232224  1.750936  ...  0.122652  0.134762  0.106305  0.108336   \n",
       "1  2.292150   0.226972  1.596377  ...  0.116682  0.134762  0.106592  0.104315   \n",
       "2  2.283337   0.230247  1.561316  ...  0.118508  0.134762  0.108303  0.106219   \n",
       "3  2.152301   0.207004  1.595086  ...  0.132781  0.134762  0.103184  0.111262   \n",
       "4  2.134014   0.192158  1.504230  ...  0.129954  0.134762  0.104784  0.110694   \n",
       "\n",
       "      syp_n  h3ack18_n    egr1_n  h3mek4_n    cana_n  class  \n",
       "0  0.427099  0.114783   0.131790  0.128186  1.675652  1      \n",
       "1  0.441581  0.111974   0.135103  0.131119  1.743610  1      \n",
       "2  0.435777  0.111883   0.133362  0.127431  1.926427  1      \n",
       "3  0.391691  0.130405   0.147444  0.146901  1.700563  1      \n",
       "4  0.434154  0.118481   0.140314  0.148380  1.839730  1      \n",
       "\n",
       "[5 rows x 78 columns]"
      ]
     },
     "execution_count": 29,
     "metadata": {},
     "output_type": "execute_result"
    }
   ],
   "source": [
    "mi.head()"
   ]
  },
  {
   "cell_type": "code",
   "execution_count": 30,
   "metadata": {},
   "outputs": [
    {
     "data": {
      "text/plain": [
       "2    150\n",
       "1    150\n",
       "7    135\n",
       "6    135\n",
       "5    135\n",
       "4    135\n",
       "3    135\n",
       "8    105\n",
       "Name: class, dtype: int64"
      ]
     },
     "execution_count": 30,
     "metadata": {},
     "output_type": "execute_result"
    }
   ],
   "source": [
    "mi['class'].value_counts()"
   ]
  },
  {
   "cell_type": "markdown",
   "metadata": {},
   "source": [
    " ## OneHotEncodeing \n",
    "Not every variable or attribute in this is a numerical variable and before performing noramalization, we have convert the variables into OneHotEncoder "
   ]
  },
  {
   "cell_type": "code",
   "execution_count": 31,
   "metadata": {},
   "outputs": [],
   "source": [
    "from sklearn.preprocessing import OneHotEncoder\n"
   ]
  },
  {
   "cell_type": "code",
   "execution_count": 32,
   "metadata": {},
   "outputs": [],
   "source": [
    "one = OneHotEncoder(categorical_features = [8,8])\n"
   ]
  },
  {
   "cell_type": "code",
   "execution_count": 33,
   "metadata": {},
   "outputs": [
    {
     "name": "stderr",
     "output_type": "stream",
     "text": [
      "C:\\Users\\Nivya Sree\\Anaconda3\\anaconda3\\lib\\site-packages\\sklearn\\preprocessing\\_encoders.py:371: FutureWarning: The handling of integer data will change in version 0.22. Currently, the categories are determined based on the range [0, max(values)], while in the future they will be determined based on the unique values.\n",
      "If you want the future behaviour and silence this warning, you can specify \"categories='auto'\".\n",
      "In case you used a LabelEncoder before this OneHotEncoder to convert the categories to integers, then you can now use the OneHotEncoder directly.\n",
      "  warnings.warn(msg, FutureWarning)\n",
      "C:\\Users\\Nivya Sree\\Anaconda3\\anaconda3\\lib\\site-packages\\sklearn\\preprocessing\\_encoders.py:392: DeprecationWarning: The 'categorical_features' keyword is deprecated in version 0.20 and will be removed in 0.22. You can use the ColumnTransformer instead.\n",
      "  \"use the ColumnTransformer instead.\", DeprecationWarning)\n"
     ]
    }
   ],
   "source": [
    "mipro = one.fit_transform(mi).toarray()\n"
   ]
  },
  {
   "cell_type": "code",
   "execution_count": 34,
   "metadata": {},
   "outputs": [],
   "source": [
    "mipro= pd.DataFrame(mipro)"
   ]
  },
  {
   "cell_type": "code",
   "execution_count": 35,
   "metadata": {},
   "outputs": [
    {
     "data": {
      "text/html": [
       "<div>\n",
       "<style scoped>\n",
       "    .dataframe tbody tr th:only-of-type {\n",
       "        vertical-align: middle;\n",
       "    }\n",
       "\n",
       "    .dataframe tbody tr th {\n",
       "        vertical-align: top;\n",
       "    }\n",
       "\n",
       "    .dataframe thead th {\n",
       "        text-align: right;\n",
       "    }\n",
       "</style>\n",
       "<table border=\"1\" class=\"dataframe\">\n",
       "  <thead>\n",
       "    <tr style=\"text-align: right;\">\n",
       "      <th></th>\n",
       "      <th>0</th>\n",
       "      <th>1</th>\n",
       "      <th>2</th>\n",
       "      <th>3</th>\n",
       "      <th>4</th>\n",
       "      <th>5</th>\n",
       "      <th>6</th>\n",
       "      <th>7</th>\n",
       "      <th>8</th>\n",
       "      <th>9</th>\n",
       "      <th>...</th>\n",
       "      <th>68</th>\n",
       "      <th>69</th>\n",
       "      <th>70</th>\n",
       "      <th>71</th>\n",
       "      <th>72</th>\n",
       "      <th>73</th>\n",
       "      <th>74</th>\n",
       "      <th>75</th>\n",
       "      <th>76</th>\n",
       "      <th>77</th>\n",
       "    </tr>\n",
       "  </thead>\n",
       "  <tbody>\n",
       "    <tr>\n",
       "      <th>0</th>\n",
       "      <td>1.0</td>\n",
       "      <td>0.503644</td>\n",
       "      <td>0.747193</td>\n",
       "      <td>0.430175</td>\n",
       "      <td>2.816329</td>\n",
       "      <td>5.990152</td>\n",
       "      <td>0.218830</td>\n",
       "      <td>0.177565</td>\n",
       "      <td>2.373744</td>\n",
       "      <td>1.750936</td>\n",
       "      <td>...</td>\n",
       "      <td>0.122652</td>\n",
       "      <td>0.134762</td>\n",
       "      <td>0.106305</td>\n",
       "      <td>0.108336</td>\n",
       "      <td>0.427099</td>\n",
       "      <td>0.114783</td>\n",
       "      <td>0.131790</td>\n",
       "      <td>0.128186</td>\n",
       "      <td>1.675652</td>\n",
       "      <td>1.0</td>\n",
       "    </tr>\n",
       "    <tr>\n",
       "      <th>1</th>\n",
       "      <td>1.0</td>\n",
       "      <td>0.514617</td>\n",
       "      <td>0.689064</td>\n",
       "      <td>0.411770</td>\n",
       "      <td>2.789514</td>\n",
       "      <td>5.685038</td>\n",
       "      <td>0.211636</td>\n",
       "      <td>0.172817</td>\n",
       "      <td>2.292150</td>\n",
       "      <td>1.596377</td>\n",
       "      <td>...</td>\n",
       "      <td>0.116682</td>\n",
       "      <td>0.134762</td>\n",
       "      <td>0.106592</td>\n",
       "      <td>0.104315</td>\n",
       "      <td>0.441581</td>\n",
       "      <td>0.111974</td>\n",
       "      <td>0.135103</td>\n",
       "      <td>0.131119</td>\n",
       "      <td>1.743610</td>\n",
       "      <td>1.0</td>\n",
       "    </tr>\n",
       "    <tr>\n",
       "      <th>2</th>\n",
       "      <td>1.0</td>\n",
       "      <td>0.509183</td>\n",
       "      <td>0.730247</td>\n",
       "      <td>0.418309</td>\n",
       "      <td>2.687201</td>\n",
       "      <td>5.622059</td>\n",
       "      <td>0.209011</td>\n",
       "      <td>0.175722</td>\n",
       "      <td>2.283337</td>\n",
       "      <td>1.561316</td>\n",
       "      <td>...</td>\n",
       "      <td>0.118508</td>\n",
       "      <td>0.134762</td>\n",
       "      <td>0.108303</td>\n",
       "      <td>0.106219</td>\n",
       "      <td>0.435777</td>\n",
       "      <td>0.111883</td>\n",
       "      <td>0.133362</td>\n",
       "      <td>0.127431</td>\n",
       "      <td>1.926427</td>\n",
       "      <td>1.0</td>\n",
       "    </tr>\n",
       "    <tr>\n",
       "      <th>3</th>\n",
       "      <td>1.0</td>\n",
       "      <td>0.442107</td>\n",
       "      <td>0.617076</td>\n",
       "      <td>0.358626</td>\n",
       "      <td>2.466947</td>\n",
       "      <td>4.979503</td>\n",
       "      <td>0.222886</td>\n",
       "      <td>0.176463</td>\n",
       "      <td>2.152301</td>\n",
       "      <td>1.595086</td>\n",
       "      <td>...</td>\n",
       "      <td>0.132781</td>\n",
       "      <td>0.134762</td>\n",
       "      <td>0.103184</td>\n",
       "      <td>0.111262</td>\n",
       "      <td>0.391691</td>\n",
       "      <td>0.130405</td>\n",
       "      <td>0.147444</td>\n",
       "      <td>0.146901</td>\n",
       "      <td>1.700563</td>\n",
       "      <td>1.0</td>\n",
       "    </tr>\n",
       "    <tr>\n",
       "      <th>4</th>\n",
       "      <td>1.0</td>\n",
       "      <td>0.434940</td>\n",
       "      <td>0.617430</td>\n",
       "      <td>0.358802</td>\n",
       "      <td>2.365785</td>\n",
       "      <td>4.718679</td>\n",
       "      <td>0.213106</td>\n",
       "      <td>0.173627</td>\n",
       "      <td>2.134014</td>\n",
       "      <td>1.504230</td>\n",
       "      <td>...</td>\n",
       "      <td>0.129954</td>\n",
       "      <td>0.134762</td>\n",
       "      <td>0.104784</td>\n",
       "      <td>0.110694</td>\n",
       "      <td>0.434154</td>\n",
       "      <td>0.118481</td>\n",
       "      <td>0.140314</td>\n",
       "      <td>0.148380</td>\n",
       "      <td>1.839730</td>\n",
       "      <td>1.0</td>\n",
       "    </tr>\n",
       "  </tbody>\n",
       "</table>\n",
       "<p>5 rows × 78 columns</p>\n",
       "</div>"
      ],
      "text/plain": [
       "     0         1         2         3         4         5         6         7  \\\n",
       "0  1.0  0.503644  0.747193  0.430175  2.816329  5.990152  0.218830  0.177565   \n",
       "1  1.0  0.514617  0.689064  0.411770  2.789514  5.685038  0.211636  0.172817   \n",
       "2  1.0  0.509183  0.730247  0.418309  2.687201  5.622059  0.209011  0.175722   \n",
       "3  1.0  0.442107  0.617076  0.358626  2.466947  4.979503  0.222886  0.176463   \n",
       "4  1.0  0.434940  0.617430  0.358802  2.365785  4.718679  0.213106  0.173627   \n",
       "\n",
       "          8         9  ...        68        69        70        71        72  \\\n",
       "0  2.373744  1.750936  ...  0.122652  0.134762  0.106305  0.108336  0.427099   \n",
       "1  2.292150  1.596377  ...  0.116682  0.134762  0.106592  0.104315  0.441581   \n",
       "2  2.283337  1.561316  ...  0.118508  0.134762  0.108303  0.106219  0.435777   \n",
       "3  2.152301  1.595086  ...  0.132781  0.134762  0.103184  0.111262  0.391691   \n",
       "4  2.134014  1.504230  ...  0.129954  0.134762  0.104784  0.110694  0.434154   \n",
       "\n",
       "         73        74        75        76   77  \n",
       "0  0.114783  0.131790  0.128186  1.675652  1.0  \n",
       "1  0.111974  0.135103  0.131119  1.743610  1.0  \n",
       "2  0.111883  0.133362  0.127431  1.926427  1.0  \n",
       "3  0.130405  0.147444  0.146901  1.700563  1.0  \n",
       "4  0.118481  0.140314  0.148380  1.839730  1.0  \n",
       "\n",
       "[5 rows x 78 columns]"
      ]
     },
     "execution_count": 35,
     "metadata": {},
     "output_type": "execute_result"
    }
   ],
   "source": [
    "mipro.head()"
   ]
  },
  {
   "cell_type": "code",
   "execution_count": 36,
   "metadata": {},
   "outputs": [
    {
     "data": {
      "text/plain": [
       "2.0    150\n",
       "1.0    150\n",
       "6.0    135\n",
       "5.0    135\n",
       "4.0    135\n",
       "3.0    135\n",
       "7.0    135\n",
       "8.0    105\n",
       "Name: 77, dtype: int64"
      ]
     },
     "execution_count": 36,
     "metadata": {},
     "output_type": "execute_result"
    }
   ],
   "source": [
    "mipro[77].value_counts()"
   ]
  },
  {
   "cell_type": "markdown",
   "metadata": {},
   "source": [
    "## Performing noramalisation using minmaxscaler "
   ]
  },
  {
   "cell_type": "code",
   "execution_count": 37,
   "metadata": {},
   "outputs": [],
   "source": [
    "from sklearn.preprocessing import MinMaxScaler"
   ]
  },
  {
   "cell_type": "code",
   "execution_count": 38,
   "metadata": {},
   "outputs": [
    {
     "data": {
      "text/plain": [
       "MinMaxScaler(copy=True, feature_range=(0, 1))"
      ]
     },
     "execution_count": 38,
     "metadata": {},
     "output_type": "execute_result"
    }
   ],
   "source": [
    "MinMaxScaler(feature_range=(0, 1), copy=True)"
   ]
  },
  {
   "cell_type": "code",
   "execution_count": 39,
   "metadata": {},
   "outputs": [],
   "source": [
    "minmax=MinMaxScaler(feature_range=(0, 1), copy=True)"
   ]
  },
  {
   "cell_type": "code",
   "execution_count": 40,
   "metadata": {},
   "outputs": [],
   "source": [
    "x = mipro.iloc[:,:-1].values\n",
    "y = mipro.iloc[:,-1].values"
   ]
  },
  {
   "cell_type": "code",
   "execution_count": 41,
   "metadata": {},
   "outputs": [
    {
     "data": {
      "text/plain": [
       "array([[0.        , 0.1511224 , 0.21288505, ..., 0.10288975, 0.08457952,\n",
       "        0.70573764],\n",
       "       [0.        , 0.1557504 , 0.18822566, ..., 0.11587379, 0.09397699,\n",
       "        0.74977105],\n",
       "       [0.        , 0.15345859, 0.20569615, ..., 0.10904993, 0.08216206,\n",
       "        0.86822857],\n",
       "       ...,\n",
       "       [0.        , 0.03516306, 0.06355603, ..., 0.48463073, 0.81196194,\n",
       "        0.54710006],\n",
       "       [0.        , 0.03201796, 0.07107097, ..., 0.57133648, 0.84445032,\n",
       "        0.52973884],\n",
       "       [0.        , 0.06634184, 0.09150314, ..., 0.57791409, 0.84420951,\n",
       "        0.50833567]])"
      ]
     },
     "execution_count": 41,
     "metadata": {},
     "output_type": "execute_result"
    }
   ],
   "source": [
    "x=minmax.fit_transform(x)\n",
    "x"
   ]
  },
  {
   "cell_type": "code",
   "execution_count": 42,
   "metadata": {},
   "outputs": [
    {
     "data": {
      "text/plain": [
       "array([[0.        , 0.1511224 , 0.21288505, ..., 0.10288975, 0.08457952,\n",
       "        0.70573764],\n",
       "       [0.        , 0.1557504 , 0.18822566, ..., 0.11587379, 0.09397699,\n",
       "        0.74977105],\n",
       "       [0.        , 0.15345859, 0.20569615, ..., 0.10904993, 0.08216206,\n",
       "        0.86822857],\n",
       "       ...,\n",
       "       [0.        , 0.03516306, 0.06355603, ..., 0.48463073, 0.81196194,\n",
       "        0.54710006],\n",
       "       [0.        , 0.03201796, 0.07107097, ..., 0.57133648, 0.84445032,\n",
       "        0.52973884],\n",
       "       [0.        , 0.06634184, 0.09150314, ..., 0.57791409, 0.84420951,\n",
       "        0.50833567]])"
      ]
     },
     "execution_count": 42,
     "metadata": {},
     "output_type": "execute_result"
    }
   ],
   "source": [
    "np.asarray(x, dtype=float)"
   ]
  },
  {
   "cell_type": "code",
   "execution_count": 43,
   "metadata": {},
   "outputs": [
    {
     "data": {
      "text/plain": [
       "numpy.ndarray"
      ]
     },
     "execution_count": 43,
     "metadata": {},
     "output_type": "execute_result"
    }
   ],
   "source": [
    "type(x)"
   ]
  },
  {
   "cell_type": "code",
   "execution_count": 44,
   "metadata": {},
   "outputs": [
    {
     "data": {
      "text/plain": [
       "array([1., 1., 1., ..., 6., 6., 6.])"
      ]
     },
     "execution_count": 44,
     "metadata": {},
     "output_type": "execute_result"
    }
   ],
   "source": [
    "y"
   ]
  },
  {
   "cell_type": "code",
   "execution_count": 45,
   "metadata": {},
   "outputs": [
    {
     "data": {
      "text/plain": [
       "array([[1.],\n",
       "       [1.],\n",
       "       [1.],\n",
       "       ...,\n",
       "       [6.],\n",
       "       [6.],\n",
       "       [6.]])"
      ]
     },
     "execution_count": 45,
     "metadata": {},
     "output_type": "execute_result"
    }
   ],
   "source": [
    "y=np.reshape(y,newshape= (-1,1))\n",
    "y"
   ]
  },
  {
   "cell_type": "code",
   "execution_count": 46,
   "metadata": {},
   "outputs": [],
   "source": [
    "from sklearn.model_selection import train_test_split\n",
    "X_train,X_test,Y_train,Y_test=train_test_split(x,y,test_size=0.20,random_state=0)"
   ]
  },
  {
   "cell_type": "markdown",
   "metadata": {},
   "source": [
    "## Classifing the variables using Logistic Regression"
   ]
  },
  {
   "cell_type": "code",
   "execution_count": 47,
   "metadata": {},
   "outputs": [
    {
     "name": "stderr",
     "output_type": "stream",
     "text": [
      "C:\\Users\\Nivya Sree\\Anaconda3\\anaconda3\\lib\\site-packages\\sklearn\\linear_model\\logistic.py:433: FutureWarning: Default solver will be changed to 'lbfgs' in 0.22. Specify a solver to silence this warning.\n",
      "  FutureWarning)\n",
      "C:\\Users\\Nivya Sree\\Anaconda3\\anaconda3\\lib\\site-packages\\sklearn\\utils\\validation.py:761: DataConversionWarning: A column-vector y was passed when a 1d array was expected. Please change the shape of y to (n_samples, ), for example using ravel().\n",
      "  y = column_or_1d(y, warn=True)\n",
      "C:\\Users\\Nivya Sree\\Anaconda3\\anaconda3\\lib\\site-packages\\sklearn\\linear_model\\logistic.py:460: FutureWarning: Default multi_class will be changed to 'auto' in 0.22. Specify the multi_class option to silence this warning.\n",
      "  \"this warning.\", FutureWarning)\n"
     ]
    },
    {
     "data": {
      "text/plain": [
       "LogisticRegression(C=1.0, class_weight=None, dual=False, fit_intercept=True,\n",
       "          intercept_scaling=1, max_iter=100, multi_class='warn',\n",
       "          n_jobs=None, penalty='l2', random_state=0, solver='warn',\n",
       "          tol=0.0001, verbose=0, warm_start=False)"
      ]
     },
     "execution_count": 47,
     "metadata": {},
     "output_type": "execute_result"
    }
   ],
   "source": [
    "classifier=LogisticRegression(random_state=0)\n",
    "classifier.fit(X_train,Y_train)"
   ]
  },
  {
   "cell_type": "code",
   "execution_count": 48,
   "metadata": {},
   "outputs": [],
   "source": [
    "y_pred=classifier.predict(X_test)"
   ]
  },
  {
   "cell_type": "code",
   "execution_count": 49,
   "metadata": {},
   "outputs": [
    {
     "name": "stdout",
     "output_type": "stream",
     "text": [
      "0.8842592592592593\n"
     ]
    }
   ],
   "source": [
    "accuracy = accuracy_score(Y_test,y_pred)\n",
    "\n",
    "print(accuracy)"
   ]
  },
  {
   "cell_type": "markdown",
   "metadata": {},
   "source": [
    "Accuracy has led to 88% which tells that the model is good enough but I need 90% or above so let me do this using Neural networks"
   ]
  },
  {
   "cell_type": "markdown",
   "metadata": {},
   "source": [
    "## Using of Neural Networks "
   ]
  },
  {
   "cell_type": "code",
   "execution_count": 50,
   "metadata": {},
   "outputs": [
    {
     "name": "stderr",
     "output_type": "stream",
     "text": [
      "C:\\Users\\Nivya Sree\\Anaconda3\\anaconda3\\lib\\site-packages\\sklearn\\neural_network\\multilayer_perceptron.py:916: DataConversionWarning: A column-vector y was passed when a 1d array was expected. Please change the shape of y to (n_samples, ), for example using ravel().\n",
      "  y = column_or_1d(y, warn=True)\n"
     ]
    },
    {
     "data": {
      "text/plain": [
       "MLPClassifier(activation='relu', alpha=0.0001, batch_size='auto', beta_1=0.9,\n",
       "       beta_2=0.999, early_stopping=False, epsilon=1e-08,\n",
       "       hidden_layer_sizes=(200, 100), learning_rate='constant',\n",
       "       learning_rate_init=0.001, max_iter=1000, momentum=0.9,\n",
       "       n_iter_no_change=10, nesterovs_momentum=True, power_t=0.5,\n",
       "       random_state=None, shuffle=True, solver='adam', tol=0.0001,\n",
       "       validation_fraction=0.1, verbose=False, warm_start=False)"
      ]
     },
     "execution_count": 50,
     "metadata": {},
     "output_type": "execute_result"
    }
   ],
   "source": [
    "from sklearn.neural_network import MLPClassifier\n",
    "\n",
    "model = MLPClassifier(hidden_layer_sizes=(200,100), max_iter=1000)\n",
    "model.fit(x, y)"
   ]
  },
  {
   "cell_type": "code",
   "execution_count": 51,
   "metadata": {},
   "outputs": [
    {
     "name": "stdout",
     "output_type": "stream",
     "text": [
      "1.0\n"
     ]
    }
   ],
   "source": [
    "predicted_class=model.predict(X_test)\n",
    "\n",
    "acneu = accuracy_score(Y_test,predicted_class)\n",
    "\n",
    "print(acneu)"
   ]
  },
  {
   "cell_type": "markdown",
   "metadata": {},
   "source": [
    "Wow just by using neural networks with the hidden layer size of 200, 100 with max_iterations=1000. I got the accuracy of 100%\n",
    "\n",
    "It seems to be different let me try with different models of hidden layers "
   ]
  },
  {
   "cell_type": "code",
   "execution_count": 52,
   "metadata": {},
   "outputs": [
    {
     "name": "stderr",
     "output_type": "stream",
     "text": [
      "C:\\Users\\Nivya Sree\\Anaconda3\\anaconda3\\lib\\site-packages\\sklearn\\neural_network\\multilayer_perceptron.py:916: DataConversionWarning: A column-vector y was passed when a 1d array was expected. Please change the shape of y to (n_samples, ), for example using ravel().\n",
      "  y = column_or_1d(y, warn=True)\n"
     ]
    },
    {
     "data": {
      "text/plain": [
       "MLPClassifier(activation='relu', alpha=0.0001, batch_size='auto', beta_1=0.9,\n",
       "       beta_2=0.999, early_stopping=False, epsilon=1e-08,\n",
       "       hidden_layer_sizes=(100, 200), learning_rate='constant',\n",
       "       learning_rate_init=0.001, max_iter=1000, momentum=0.9,\n",
       "       n_iter_no_change=10, nesterovs_momentum=True, power_t=0.5,\n",
       "       random_state=None, shuffle=True, solver='adam', tol=0.0001,\n",
       "       validation_fraction=0.1, verbose=False, warm_start=False)"
      ]
     },
     "execution_count": 52,
     "metadata": {},
     "output_type": "execute_result"
    }
   ],
   "source": [
    "model1 = MLPClassifier(hidden_layer_sizes=(100,200), max_iter=1000)\n",
    "model1.fit(x, y)"
   ]
  },
  {
   "cell_type": "code",
   "execution_count": 53,
   "metadata": {},
   "outputs": [
    {
     "name": "stdout",
     "output_type": "stream",
     "text": [
      "1.0\n"
     ]
    }
   ],
   "source": [
    "predicted_class1=model1.predict(X_test)\n",
    "\n",
    "acneu1 = accuracy_score(Y_test,predicted_class1)\n",
    "\n",
    "print(acneu1)"
   ]
  },
  {
   "cell_type": "code",
   "execution_count": 54,
   "metadata": {},
   "outputs": [
    {
     "name": "stderr",
     "output_type": "stream",
     "text": [
      "C:\\Users\\Nivya Sree\\Anaconda3\\anaconda3\\lib\\site-packages\\sklearn\\neural_network\\multilayer_perceptron.py:916: DataConversionWarning: A column-vector y was passed when a 1d array was expected. Please change the shape of y to (n_samples, ), for example using ravel().\n",
      "  y = column_or_1d(y, warn=True)\n"
     ]
    },
    {
     "data": {
      "text/plain": [
       "MLPClassifier(activation='relu', alpha=0.0001, batch_size='auto', beta_1=0.9,\n",
       "       beta_2=0.999, early_stopping=False, epsilon=1e-08,\n",
       "       hidden_layer_sizes=(30, 60), learning_rate='constant',\n",
       "       learning_rate_init=0.001, max_iter=1000, momentum=0.9,\n",
       "       n_iter_no_change=10, nesterovs_momentum=True, power_t=0.5,\n",
       "       random_state=None, shuffle=True, solver='adam', tol=0.0001,\n",
       "       validation_fraction=0.1, verbose=False, warm_start=False)"
      ]
     },
     "execution_count": 54,
     "metadata": {},
     "output_type": "execute_result"
    }
   ],
   "source": [
    "model2 = MLPClassifier(hidden_layer_sizes=(30,60), max_iter=1000)\n",
    "model2.fit(x, y)"
   ]
  },
  {
   "cell_type": "code",
   "execution_count": 55,
   "metadata": {},
   "outputs": [
    {
     "name": "stdout",
     "output_type": "stream",
     "text": [
      "1.0\n"
     ]
    }
   ],
   "source": [
    "predicted_class2=model1.predict(X_test)\n",
    "\n",
    "acneu2 = accuracy_score(Y_test,predicted_class2)\n",
    "print(acneu2)"
   ]
  },
  {
   "cell_type": "markdown",
   "metadata": {},
   "source": [
    "wierd let it be just 30,60 hidden layers even then the accuracy is 100%"
   ]
  },
  {
   "cell_type": "markdown",
   "metadata": {},
   "source": [
    "## let me change the \"test size\" \n",
    "This may be I can get less than 100% because nothing is perfect and there is no 100 accuracy there will be 0.0003% chance of deviation even if you follow SIX SIGMA level "
   ]
  },
  {
   "cell_type": "code",
   "execution_count": 56,
   "metadata": {},
   "outputs": [],
   "source": [
    "x_train,x_test,y_train,y_test=train_test_split(x,y,test_size=0.25,random_state=0)"
   ]
  },
  {
   "cell_type": "code",
   "execution_count": 57,
   "metadata": {},
   "outputs": [
    {
     "name": "stderr",
     "output_type": "stream",
     "text": [
      "C:\\Users\\Nivya Sree\\Anaconda3\\anaconda3\\lib\\site-packages\\sklearn\\linear_model\\logistic.py:433: FutureWarning: Default solver will be changed to 'lbfgs' in 0.22. Specify a solver to silence this warning.\n",
      "  FutureWarning)\n",
      "C:\\Users\\Nivya Sree\\Anaconda3\\anaconda3\\lib\\site-packages\\sklearn\\utils\\validation.py:761: DataConversionWarning: A column-vector y was passed when a 1d array was expected. Please change the shape of y to (n_samples, ), for example using ravel().\n",
      "  y = column_or_1d(y, warn=True)\n",
      "C:\\Users\\Nivya Sree\\Anaconda3\\anaconda3\\lib\\site-packages\\sklearn\\linear_model\\logistic.py:460: FutureWarning: Default multi_class will be changed to 'auto' in 0.22. Specify the multi_class option to silence this warning.\n",
      "  \"this warning.\", FutureWarning)\n"
     ]
    },
    {
     "data": {
      "text/plain": [
       "LogisticRegression(C=1.0, class_weight=None, dual=False, fit_intercept=True,\n",
       "          intercept_scaling=1, max_iter=100, multi_class='warn',\n",
       "          n_jobs=None, penalty='l2', random_state=0, solver='warn',\n",
       "          tol=0.0001, verbose=0, warm_start=False)"
      ]
     },
     "execution_count": 57,
     "metadata": {},
     "output_type": "execute_result"
    }
   ],
   "source": [
    "classify=LogisticRegression(random_state=0)\n",
    "classify.fit(x_train,y_train)"
   ]
  },
  {
   "cell_type": "code",
   "execution_count": 58,
   "metadata": {},
   "outputs": [],
   "source": [
    "Y_pred=classify.predict(x_test)"
   ]
  },
  {
   "cell_type": "code",
   "execution_count": 59,
   "metadata": {},
   "outputs": [
    {
     "name": "stdout",
     "output_type": "stream",
     "text": [
      "0.8740740740740741\n"
     ]
    }
   ],
   "source": [
    "accuracy1 = accuracy_score(y_test,Y_pred)\n",
    "\n",
    "print(accuracy1)"
   ]
  },
  {
   "cell_type": "markdown",
   "metadata": {},
   "source": [
    "ok now my accuarcy has come down from 0.88 to 0.87. so may be i can get a good accuracy even with neural networks"
   ]
  },
  {
   "cell_type": "code",
   "execution_count": 60,
   "metadata": {},
   "outputs": [
    {
     "name": "stderr",
     "output_type": "stream",
     "text": [
      "C:\\Users\\Nivya Sree\\Anaconda3\\anaconda3\\lib\\site-packages\\sklearn\\neural_network\\multilayer_perceptron.py:916: DataConversionWarning: A column-vector y was passed when a 1d array was expected. Please change the shape of y to (n_samples, ), for example using ravel().\n",
      "  y = column_or_1d(y, warn=True)\n"
     ]
    },
    {
     "data": {
      "text/plain": [
       "MLPClassifier(activation='relu', alpha=0.0001, batch_size='auto', beta_1=0.9,\n",
       "       beta_2=0.999, early_stopping=False, epsilon=1e-08,\n",
       "       hidden_layer_sizes=(200, 100), learning_rate='constant',\n",
       "       learning_rate_init=0.001, max_iter=1000, momentum=0.9,\n",
       "       n_iter_no_change=10, nesterovs_momentum=True, power_t=0.5,\n",
       "       random_state=None, shuffle=True, solver='adam', tol=0.0001,\n",
       "       validation_fraction=0.1, verbose=False, warm_start=False)"
      ]
     },
     "execution_count": 60,
     "metadata": {},
     "output_type": "execute_result"
    }
   ],
   "source": [
    "model = MLPClassifier(hidden_layer_sizes=(200,100), max_iter=1000)\n",
    "model.fit(x, y)"
   ]
  },
  {
   "cell_type": "code",
   "execution_count": 61,
   "metadata": {},
   "outputs": [
    {
     "name": "stdout",
     "output_type": "stream",
     "text": [
      "1.0\n"
     ]
    }
   ],
   "source": [
    "predict_class=model.predict(x_test)\n",
    "\n",
    "accneu = accuracy_score(y_test,predict_class)\n",
    "\n",
    "print(accneu)"
   ]
  },
  {
   "cell_type": "code",
   "execution_count": 62,
   "metadata": {},
   "outputs": [
    {
     "name": "stderr",
     "output_type": "stream",
     "text": [
      "C:\\Users\\Nivya Sree\\Anaconda3\\anaconda3\\lib\\site-packages\\sklearn\\neural_network\\multilayer_perceptron.py:916: DataConversionWarning: A column-vector y was passed when a 1d array was expected. Please change the shape of y to (n_samples, ), for example using ravel().\n",
      "  y = column_or_1d(y, warn=True)\n"
     ]
    },
    {
     "data": {
      "text/plain": [
       "MLPClassifier(activation='relu', alpha=0.0001, batch_size='auto', beta_1=0.9,\n",
       "       beta_2=0.999, early_stopping=False, epsilon=1e-08,\n",
       "       hidden_layer_sizes=(30, 60), learning_rate='constant',\n",
       "       learning_rate_init=0.001, max_iter=1000, momentum=0.9,\n",
       "       n_iter_no_change=10, nesterovs_momentum=True, power_t=0.5,\n",
       "       random_state=None, shuffle=True, solver='adam', tol=0.0001,\n",
       "       validation_fraction=0.1, verbose=False, warm_start=False)"
      ]
     },
     "execution_count": 62,
     "metadata": {},
     "output_type": "execute_result"
    }
   ],
   "source": [
    "model2 = MLPClassifier(hidden_layer_sizes=(30,60), max_iter=1000)\n",
    "model2.fit(x, y)"
   ]
  },
  {
   "cell_type": "code",
   "execution_count": 63,
   "metadata": {},
   "outputs": [
    {
     "name": "stdout",
     "output_type": "stream",
     "text": [
      "1.0\n"
     ]
    }
   ],
   "source": [
    "predict_class2=model2.predict(x_test)\n",
    "\n",
    "accneu2 = accuracy_score(y_test,predict_class2)\n",
    "\n",
    "print(accneu2)"
   ]
  },
  {
   "cell_type": "markdown",
   "metadata": {},
   "source": [
    "Again same how is it possible"
   ]
  },
  {
   "cell_type": "markdown",
   "metadata": {},
   "source": [
    "## using SVM in various ways"
   ]
  },
  {
   "cell_type": "code",
   "execution_count": 64,
   "metadata": {},
   "outputs": [
    {
     "name": "stderr",
     "output_type": "stream",
     "text": [
      "C:\\Users\\Nivya Sree\\Anaconda3\\anaconda3\\lib\\site-packages\\sklearn\\utils\\validation.py:761: DataConversionWarning: A column-vector y was passed when a 1d array was expected. Please change the shape of y to (n_samples, ), for example using ravel().\n",
      "  y = column_or_1d(y, warn=True)\n",
      "C:\\Users\\Nivya Sree\\Anaconda3\\anaconda3\\lib\\site-packages\\sklearn\\svm\\base.py:196: FutureWarning: The default value of gamma will change from 'auto' to 'scale' in version 0.22 to account better for unscaled features. Set gamma explicitly to 'auto' or 'scale' to avoid this warning.\n",
      "  \"avoid this warning.\", FutureWarning)\n"
     ]
    },
    {
     "data": {
      "text/plain": [
       "SVC(C=1.0, cache_size=200, class_weight=None, coef0=0.0,\n",
       "  decision_function_shape='ovr', degree=3, gamma='auto_deprecated',\n",
       "  kernel='poly', max_iter=-1, probability=False, random_state=None,\n",
       "  shrinking=True, tol=0.001, verbose=False)"
      ]
     },
     "execution_count": 64,
     "metadata": {},
     "output_type": "execute_result"
    }
   ],
   "source": [
    "from sklearn.svm import SVC\n",
    "svclassifier = SVC(kernel='poly', degree= 3)# polynomial \n",
    "svclassifier.fit(X_train, Y_train)"
   ]
  },
  {
   "cell_type": "code",
   "execution_count": 65,
   "metadata": {},
   "outputs": [],
   "source": [
    "y_pred = svclassifier.predict(X_test)\n"
   ]
  },
  {
   "cell_type": "code",
   "execution_count": 66,
   "metadata": {},
   "outputs": [
    {
     "name": "stdout",
     "output_type": "stream",
     "text": [
      "0.1111111111111111\n"
     ]
    }
   ],
   "source": [
    "acc = accuracy_score(Y_test,y_pred)\n",
    "print(acc)"
   ]
  },
  {
   "cell_type": "code",
   "execution_count": 67,
   "metadata": {},
   "outputs": [
    {
     "name": "stdout",
     "output_type": "stream",
     "text": [
      "              precision    recall  f1-score   support\n",
      "\n",
      "         1.0       0.11      1.00      0.20        24\n",
      "         2.0       0.00      0.00      0.00        25\n",
      "         3.0       0.00      0.00      0.00        31\n",
      "         4.0       0.00      0.00      0.00        32\n",
      "         5.0       0.00      0.00      0.00        24\n",
      "         6.0       0.00      0.00      0.00        26\n",
      "         7.0       0.00      0.00      0.00        27\n",
      "         8.0       0.00      0.00      0.00        27\n",
      "\n",
      "   micro avg       0.11      0.11      0.11       216\n",
      "   macro avg       0.01      0.12      0.02       216\n",
      "weighted avg       0.01      0.11      0.02       216\n",
      "\n"
     ]
    },
    {
     "name": "stderr",
     "output_type": "stream",
     "text": [
      "C:\\Users\\Nivya Sree\\Anaconda3\\anaconda3\\lib\\site-packages\\sklearn\\metrics\\classification.py:1143: UndefinedMetricWarning: Precision and F-score are ill-defined and being set to 0.0 in labels with no predicted samples.\n",
      "  'precision', 'predicted', average, warn_for)\n"
     ]
    }
   ],
   "source": [
    "from sklearn.metrics import classification_report\n",
    "print(classification_report(Y_test, y_pred))"
   ]
  },
  {
   "cell_type": "code",
   "execution_count": 68,
   "metadata": {},
   "outputs": [
    {
     "name": "stderr",
     "output_type": "stream",
     "text": [
      "C:\\Users\\Nivya Sree\\Anaconda3\\anaconda3\\lib\\site-packages\\sklearn\\utils\\validation.py:761: DataConversionWarning: A column-vector y was passed when a 1d array was expected. Please change the shape of y to (n_samples, ), for example using ravel().\n",
      "  y = column_or_1d(y, warn=True)\n",
      "C:\\Users\\Nivya Sree\\Anaconda3\\anaconda3\\lib\\site-packages\\sklearn\\svm\\base.py:196: FutureWarning: The default value of gamma will change from 'auto' to 'scale' in version 0.22 to account better for unscaled features. Set gamma explicitly to 'auto' or 'scale' to avoid this warning.\n",
      "  \"avoid this warning.\", FutureWarning)\n"
     ]
    },
    {
     "data": {
      "text/plain": [
       "SVC(C=1.0, cache_size=200, class_weight=None, coef0=0.0,\n",
       "  decision_function_shape='ovr', degree=3, gamma='auto_deprecated',\n",
       "  kernel='sigmoid', max_iter=-1, probability=False, random_state=None,\n",
       "  shrinking=True, tol=0.001, verbose=False)"
      ]
     },
     "execution_count": 68,
     "metadata": {},
     "output_type": "execute_result"
    }
   ],
   "source": [
    "svclassifier = SVC(kernel='sigmoid')#sigmoid function\n",
    "svclassifier.fit(X_train, Y_train)"
   ]
  },
  {
   "cell_type": "code",
   "execution_count": 69,
   "metadata": {},
   "outputs": [
    {
     "name": "stdout",
     "output_type": "stream",
     "text": [
      "0.26851851851851855\n"
     ]
    }
   ],
   "source": [
    "y_predsig = svclassifier.predict(X_test)\n",
    "\n",
    "accsig = accuracy_score(Y_test,y_predsig)\n",
    "print(accsig)\n"
   ]
  },
  {
   "cell_type": "code",
   "execution_count": 70,
   "metadata": {},
   "outputs": [
    {
     "name": "stdout",
     "output_type": "stream",
     "text": [
      "              precision    recall  f1-score   support\n",
      "\n",
      "         1.0       0.11      1.00      0.20        24\n",
      "         2.0       0.00      0.00      0.00        25\n",
      "         3.0       0.00      0.00      0.00        31\n",
      "         4.0       0.00      0.00      0.00        32\n",
      "         5.0       0.00      0.00      0.00        24\n",
      "         6.0       0.00      0.00      0.00        26\n",
      "         7.0       0.00      0.00      0.00        27\n",
      "         8.0       0.00      0.00      0.00        27\n",
      "\n",
      "   micro avg       0.11      0.11      0.11       216\n",
      "   macro avg       0.01      0.12      0.02       216\n",
      "weighted avg       0.01      0.11      0.02       216\n",
      "\n"
     ]
    },
    {
     "name": "stderr",
     "output_type": "stream",
     "text": [
      "C:\\Users\\Nivya Sree\\Anaconda3\\anaconda3\\lib\\site-packages\\sklearn\\metrics\\classification.py:1143: UndefinedMetricWarning: Precision and F-score are ill-defined and being set to 0.0 in labels with no predicted samples.\n",
      "  'precision', 'predicted', average, warn_for)\n"
     ]
    }
   ],
   "source": [
    "print(classification_report(Y_test, y_pred))"
   ]
  },
  {
   "cell_type": "code",
   "execution_count": 71,
   "metadata": {},
   "outputs": [],
   "source": [
    "x_train,x_test,y_train,y_test=train_test_split(x,y,test_size=0.15,random_state=0)"
   ]
  },
  {
   "cell_type": "code",
   "execution_count": 72,
   "metadata": {},
   "outputs": [
    {
     "name": "stderr",
     "output_type": "stream",
     "text": [
      "C:\\Users\\Nivya Sree\\Anaconda3\\anaconda3\\lib\\site-packages\\sklearn\\linear_model\\logistic.py:433: FutureWarning: Default solver will be changed to 'lbfgs' in 0.22. Specify a solver to silence this warning.\n",
      "  FutureWarning)\n",
      "C:\\Users\\Nivya Sree\\Anaconda3\\anaconda3\\lib\\site-packages\\sklearn\\utils\\validation.py:761: DataConversionWarning: A column-vector y was passed when a 1d array was expected. Please change the shape of y to (n_samples, ), for example using ravel().\n",
      "  y = column_or_1d(y, warn=True)\n",
      "C:\\Users\\Nivya Sree\\Anaconda3\\anaconda3\\lib\\site-packages\\sklearn\\linear_model\\logistic.py:460: FutureWarning: Default multi_class will be changed to 'auto' in 0.22. Specify the multi_class option to silence this warning.\n",
      "  \"this warning.\", FutureWarning)\n"
     ]
    },
    {
     "data": {
      "text/plain": [
       "LogisticRegression(C=1.0, class_weight=None, dual=False, fit_intercept=True,\n",
       "          intercept_scaling=1, max_iter=100, multi_class='warn',\n",
       "          n_jobs=None, penalty='l2', random_state=0, solver='warn',\n",
       "          tol=0.0001, verbose=0, warm_start=False)"
      ]
     },
     "execution_count": 72,
     "metadata": {},
     "output_type": "execute_result"
    }
   ],
   "source": [
    "classify=LogisticRegression(random_state=0)\n",
    "classify.fit(x_train,y_train)"
   ]
  },
  {
   "cell_type": "code",
   "execution_count": 73,
   "metadata": {},
   "outputs": [
    {
     "name": "stdout",
     "output_type": "stream",
     "text": [
      "0.8950617283950617\n"
     ]
    }
   ],
   "source": [
    "Y_pred=classify.predict(x_test)\n",
    "\n",
    "accuracy2 = accuracy_score(y_test,Y_pred)\n",
    "\n",
    "print(accuracy2)"
   ]
  },
  {
   "cell_type": "markdown",
   "metadata": {},
   "source": [
    "so nice still even when i reduced the text size to 15 then i got the accuracy to 89.5 which i can see to 90% but in the trail and test if it is 89.5% then it is 89.5% cannot be taken as 90%"
   ]
  },
  {
   "cell_type": "code",
   "execution_count": null,
   "metadata": {},
   "outputs": [],
   "source": []
  }
 ],
 "metadata": {
  "kernelspec": {
   "display_name": "Python 3",
   "language": "python",
   "name": "python3"
  },
  "language_info": {
   "codemirror_mode": {
    "name": "ipython",
    "version": 3
   },
   "file_extension": ".py",
   "mimetype": "text/x-python",
   "name": "python",
   "nbconvert_exporter": "python",
   "pygments_lexer": "ipython3",
   "version": "3.7.3"
  }
 },
 "nbformat": 4,
 "nbformat_minor": 2
}
